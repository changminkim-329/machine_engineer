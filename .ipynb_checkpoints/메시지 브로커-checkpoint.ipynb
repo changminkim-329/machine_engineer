{
 "cells": [
  {
   "cell_type": "markdown",
   "id": "56229048",
   "metadata": {},
   "source": [
    "# Message Broker\n",
    "- **Message Broker**(메시지 브로커)는 **Publisher**(송신자)로부터 전달받은 메시지를 **Subscriber**(수신자)로 전달해주는 중간 역할\n",
    "- 응용 소프트웨어 간에 메시지를 교환할 수 있게 함.\n",
    "- 메시지가 적재되는 공간을 **Message Queue**(메세지 큐)라고 하며 메시지의 그룹을 **Topic**(토픽)이라고 한다.\n",
    "- 일종의 서버\n",
    "- 메시지 브로커는 송신자가 보낸 메시지를 메시지 큐에 적재하고 이를 수신자가 받아서 사용하는 구조로, **Pulibsh/Subscribe(pub/sub) Pattern** 이라고 함."
   ]
  },
  {
   "cell_type": "markdown",
   "id": "23abcb77",
   "metadata": {},
   "source": [
    "### FLOW\n",
    "![](https://img1.daumcdn.net/thumb/R1280x0/?scode=mtistory2&fname=https%3A%2F%2Fk.kakaocdn.net%2Fdn%2FtALOl%2FbtqAYHke5ON%2FIdQ6i5zOhT9oodRsOPTRj0%2Fimg.png)"
   ]
  },
  {
   "cell_type": "markdown",
   "id": "72257db7",
   "metadata": {},
   "source": [
    "### 메세지 큐(Message Queue, MQ)\n",
    "- 프로세스 간에 데이터를 서로 교환할때 사용하는 통신 방법.\n",
    "- **메시지 지향 미들웨어(Message Oriented Middleware:MOM)**를 구현한 시스템\n",
    "- 여기서 MOM은 비동기 메시지를 사용하는 응용 프로그램 간의 데이터 송수신\n",
    "- 메시지 큐는 대용량 데이터를 처리하기 위한 배치 작업이나, 채팅 서비스, 비동기 데이터 처리할 때 사용.\n",
    "- 프로세스 단위로 처리하는 웹 요청에서, 사용자가 많아지거나 데이터가 많아지면 요청에 대한 응답을 기다리는 수가 증가하다가, 나중에는 대기 시간이 지연되어서, 서비스가 정상적으로 되지 못하는 상황이 오기 때문에, 기존에 분산되어 있던 데이터 처리를 한곳에 집중하면서, 메시지 브로커를 두어서 필요한 프로그램에 작업을 분산시키는 방법을 하는 것이 그 목적.\n",
    "\n",
    "#### 메시지 큐의 장점\n",
    "- 비동기(Asynchronous): 큐(Queue)에 넣기 때문에 나중에 처리할 수 있음.\n",
    "- 비동조(Decoupling): 애플리케이션(Application)과 분리\n",
    "- 확장성(Scalable): 다수의 프로세스들이 큐에 메시지를 보낼 수 있음.\n",
    "- 탄력성(resilience): 일부가 실패시 전체에 영향을 받지 않음.\n",
    "- 과잉(Redundancy): 실패할 경우 재실행이 가능."
   ]
  },
  {
   "cell_type": "code",
   "execution_count": null,
   "id": "aabfb81e",
   "metadata": {},
   "outputs": [],
   "source": []
  },
  {
   "cell_type": "markdown",
   "id": "56ebb1b7",
   "metadata": {},
   "source": [
    "#### 예시) 메시지 브로커를 쓰는 좋은 점\n",
    "예를들어, DW, AS라는 두 개의 서버가 있다. DW는 실시간으로 데이터를 수집하고 관리하는 서버이고, AS는 이 데이터를 가공하여 사용하는 서버이다. AS에서 DW에 있는 데이터를 사용하기위해서 일반적인 방법은 DW에서 Oracle, MySQL과 같은 RDB에 적재하고, AS에서는 이 DB에서 조회해서 쓰는 것이다. 그러나, 실시간으로 처리하기 위해서는 최신의 데이터만 빠르게 조회를 해야하는데, 실시간으로 데이터가 계속 쌓이는 TABLE을 빠르게 조회하는 것은 힘들다. 조회 성능을 높이기위해 테이블에 INDEX를 걸면 INSERT 속도가 느려지므로 실시간 처리에는 적합하지않다. \n",
    "만약 메시지 브로커를 사용하면 DW에서는 수집한 데이터를 바로 메세지 큐에 Publish(출판, 적재)하고 AS는 메시지를 Subscribe(구독, 소비)하여 바로 사용하게 된다. 메시지 브로커를 사용하면 AS에서는 별도의 조회과정이 필요없이, 메세지 큐에 적재되는 메시지를 감시하고 있다가 메시지가 적재되면 바로 가져다가 사용할 수 있다."
   ]
  },
  {
   "cell_type": "code",
   "execution_count": null,
   "id": "f188c4f4",
   "metadata": {},
   "outputs": [],
   "source": []
  },
  {
   "cell_type": "markdown",
   "id": "bc412076",
   "metadata": {},
   "source": [
    "## 메시지 브로커 종류\n",
    "- RabbitMQ\n",
    "- Apache kafka\n",
    "- Redis\n",
    "- Celery\n",
    "- AWS SQS\n",
    "\n",
    "### RabbitMQ\n",
    "- AMQP 프로토콜을 구현해 놓은 프로그램으로써 빠르고 쉽게 구성할 수 있으며 직관적.\n",
    "\n",
    "### Kafka\n",
    "- 확장성과 고성능 및 높은 처리량을 내세운 제품\n",
    "- 특화된 시스템이기 때문에 범용 메시징 시스템에서 제공하는 다양한 기능들은 제공하지 않음.\n",
    "- 대용량 실시간 로그 처리에 특화되어 있음."
   ]
  },
  {
   "cell_type": "code",
   "execution_count": null,
   "id": "243db2bc",
   "metadata": {},
   "outputs": [],
   "source": []
  },
  {
   "cell_type": "markdown",
   "id": "ba34e64b",
   "metadata": {},
   "source": [
    "### AMQP(Advanced Message Queueing Protocol)"
   ]
  },
  {
   "cell_type": "code",
   "execution_count": null,
   "id": "136c864e",
   "metadata": {},
   "outputs": [],
   "source": []
  }
 ],
 "metadata": {
  "kernelspec": {
   "display_name": "Python 3",
   "language": "python",
   "name": "python3"
  },
  "language_info": {
   "codemirror_mode": {
    "name": "ipython",
    "version": 3
   },
   "file_extension": ".py",
   "mimetype": "text/x-python",
   "name": "python",
   "nbconvert_exporter": "python",
   "pygments_lexer": "ipython3",
   "version": "3.8.10"
  }
 },
 "nbformat": 4,
 "nbformat_minor": 5
}
