{
 "cells": [
  {
   "cell_type": "markdown",
   "id": "85cf4688",
   "metadata": {},
   "source": [
    "# Ajax 와 axios"
   ]
  },
  {
   "cell_type": "markdown",
   "id": "59206ddb",
   "metadata": {},
   "source": [
    "## Ajax\n",
    "- **Asynchronous JavaScript And XML)**\n",
    "- 자바스크립트을 이용해 클라이언트와 서버 간에 데이터를 주고받는 비동기 HTTP 통신.\n",
    "- XMLHttpRequest(XHR)객체를 이용해서 전체 페이지가 아닌 필요한 데이터만 불러옴(비동기)\n",
    "\n",
    "#### 장점\n",
    "- Jquery를 통해 쉽게 구현 가능\n",
    "- Error, Success, Complete의 상태를 통해 실행 흐름 조절 가능.\n",
    "\n",
    "#### 단점\n",
    "- Jquery를 사용해야 간편하고 호환성이 보장됨\n",
    "- **Promise**기반이 아님"
   ]
  },
  {
   "cell_type": "markdown",
   "id": "5de458f1",
   "metadata": {},
   "source": [
    "### 예제) XMLHttpRequest(XHR)를 사용한 코드"
   ]
  },
  {
   "cell_type": "code",
   "execution_count": null,
   "id": "dff35311",
   "metadata": {},
   "outputs": [],
   "source": [
    "var serverAddress = 'https://localhost:3000'\n",
    "var xhr = new XMLHttpRequest();\n",
    "xhr.onreadystatechange = function(){\n",
    "    if (xhr.readyState === xhr.DONE){\n",
    "        if(xhr.status === 200 || xhr.status === 201){\n",
    "            console.log(xhr.responseText);\n",
    "        }\n",
    "        else{\n",
    "            console.error(xhr.responseText);\n",
    "        }\n",
    "    }\n",
    "};\n",
    "\n",
    "xhr.open('GET',serverAddress)\n",
    "xhr.send();"
   ]
  },
  {
   "cell_type": "markdown",
   "id": "581d0883",
   "metadata": {},
   "source": [
    "### 예제) Jquery를 사용한 코드"
   ]
  },
  {
   "cell_type": "code",
   "execution_count": null,
   "id": "a418bce2",
   "metadata": {},
   "outputs": [],
   "source": [
    "var serverAddress = 'https://localhost:3000'\n",
    "$.ajax({\n",
    "    url:serverAddress,\n",
    "    type:'GET',\n",
    "    success: function onData (data){\n",
    "        console.log(data);\n",
    "    },\n",
    "    error: function onError (error){\n",
    "        console.log(error);\n",
    "    }\n",
    "});"
   ]
  },
  {
   "cell_type": "markdown",
   "id": "90e413a4",
   "metadata": {},
   "source": [
    "### Jquery Ajax 속성\n",
    "- url : 통신을 원하고자 하는 URL 주소(필수 입력 값\n",
    "- data : 서버로 보낼 데이터\n",
    "- type : GET, POST등의 통식 방식 지정.(기본값 : GET)\n",
    "- dataType : 통신의 결과로 넘어올 데이터의 종류를 지정.\n",
    "    - xml, html, script, json, text\n",
    "- success(data): 통신 성공시 호출해야 하는 함수를 지정, 매개변수로 결과로 넘어온 데이터를 받음.\n",
    "- error : 통신 실패시 호출해야하는 함수를 지정.\n",
    "- complete: 통신 성공 여부와 관계없이 통신이 끝난 후 호출해야 함수를 지정.\n",
    "- beforeSend : 통신 전에 호출해야하는 함수를 지정.\n",
    "- async : 비동기(true), 동기(false) 여부를 지정.(기본값: true)"
   ]
  },
  {
   "cell_type": "code",
   "execution_count": null,
   "id": "37bc4908",
   "metadata": {},
   "outputs": [],
   "source": []
  },
  {
   "cell_type": "code",
   "execution_count": null,
   "id": "face9ef7",
   "metadata": {},
   "outputs": [],
   "source": []
  },
  {
   "cell_type": "markdown",
   "id": "9f7c3b82",
   "metadata": {},
   "source": [
    "### Promise\n",
    "- 프로미스는 자바스크립트 비동기 처리에 사용되는 객체\n",
    "- 기존 콜백 패턴이 가진 단점을 보완하여 비동기 처리 시점을 명확하게 표현 가능."
   ]
  },
  {
   "cell_type": "code",
   "execution_count": null,
   "id": "fef6357a",
   "metadata": {},
   "outputs": [],
   "source": []
  },
  {
   "cell_type": "markdown",
   "id": "3b1265cd",
   "metadata": {},
   "source": [
    "## axios\n",
    "- Node.js와 브라우저를 위한 Promise API를 활용하는 HTTP 통신 라이브러리.\n",
    "- 비동기로 HTTP 통신을 할 수 있으며, return을 promise 객체로 해주기 때문에 respone 데이터를 쉽다.\n",
    "\n",
    "#### 장점\n",
    "- Promise 기반으로 만들어졌기 때문에 데이터 다루기 편리\n",
    "- 브라우저 호환성이 뛰어남\n",
    "\n",
    "#### 단점\n",
    "- 사용을 위해 모듈 설치 필요 (npm install axios)"
   ]
  },
  {
   "cell_type": "code",
   "execution_count": null,
   "id": "28ea41c1",
   "metadata": {},
   "outputs": [],
   "source": [
    "const axios = require('axios');\n",
    "\n",
    "const serverAddress = 'https://localhost:3000'\n",
    "axios({\n",
    "    method:'post',\n",
    "    url:serverAddress,\n",
    "    data:{\n",
    "        userName:'coco',\n",
    "        userId:'coco1234'\n",
    "    }\n",
    "}).then((response)=>console.log(response));"
   ]
  },
  {
   "cell_type": "code",
   "execution_count": null,
   "id": "e0e1abba",
   "metadata": {},
   "outputs": [],
   "source": []
  }
 ],
 "metadata": {
  "kernelspec": {
   "display_name": "Python 3",
   "language": "python",
   "name": "python3"
  },
  "language_info": {
   "codemirror_mode": {
    "name": "ipython",
    "version": 3
   },
   "file_extension": ".py",
   "mimetype": "text/x-python",
   "name": "python",
   "nbconvert_exporter": "python",
   "pygments_lexer": "ipython3",
   "version": "3.8.10"
  }
 },
 "nbformat": 4,
 "nbformat_minor": 5
}
