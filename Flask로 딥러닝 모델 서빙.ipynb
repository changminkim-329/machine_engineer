{
 "cells": [
  {
   "cell_type": "markdown",
   "id": "29b66db0",
   "metadata": {},
   "source": [
    "# Flask로 딥러닝 모델 서빙"
   ]
  },
  {
   "cell_type": "markdown",
   "id": "968ddd33",
   "metadata": {},
   "source": [
    "### SavedModel 포맷\n",
    "- 학습 모델의 변수에 저장된 가중치 값 뿐 아니라, 모델 그래프도 같이 포함된 “패키지”형태의 포맷\n",
    "- SavedModel에는 가중치 및 연산을 포함한 완전한 텐서플로 프로그램이 포함됩니다. 기존에 설계했던 모델 코드를 실행할 필요가 없어 공유하거나 (TFLite, TensorFlow.js, TensorFlow Serving, TFHub와 같은 환경으로) 배포하는 데 유용\n",
    "\n",
    "- 고수준(high level) 케라스의 model.save와 tf.keras.models.load_model\n",
    "- 저수준(low level)의 tf.saved_model.save와 tf.saved_model.load"
   ]
  },
  {
   "cell_type": "code",
   "execution_count": 1,
   "id": "a23b5618",
   "metadata": {},
   "outputs": [],
   "source": [
    "import numpy as np\n",
    "import tensorflow as tf\n",
    "from flask import Flask, request"
   ]
  },
  {
   "cell_type": "code",
   "execution_count": 2,
   "id": "8815035f",
   "metadata": {},
   "outputs": [],
   "source": [
    "load = tf.saved_model.load('../model/mnist/1/')"
   ]
  },
  {
   "cell_type": "code",
   "execution_count": 3,
   "id": "0cf78c4a",
   "metadata": {},
   "outputs": [],
   "source": [
    "load_inference = load.signatures['serving_default']"
   ]
  },
  {
   "cell_type": "code",
   "execution_count": null,
   "id": "3fa9a188",
   "metadata": {},
   "outputs": [],
   "source": [
    "import numpy as np\n",
    "import tensorflow as tf\n",
    "from flask import Flask, request\n",
    "\n",
    "load = tf.saved_model.load('../model/mnist/1/')\n",
    "\n",
    "load_inference = load.signatures['serving_default']"
   ]
  },
  {
   "cell_type": "code",
   "execution_count": null,
   "id": "aba33f5c",
   "metadata": {},
   "outputs": [],
   "source": [
    "app = Flask(__name__)\n",
    "\n",
    "@app.route('/inference',methods=['POST'])\n",
    "def inference():\n",
    "    global data\n",
    "    data = request.json\n",
    "    image = data['images']\n",
    "    pre_image = tf.reshape(tf.constant(image,dtype=tf.float32)/255.0,(1,28,28,1))\n",
    "    result = load_inference(pre_image)\n",
    "    print(result)\n",
    "    print(str(np.argmax(result['dense'].numpy())))\n",
    "    return str(np.argmax(result['dense'].numpy()))\n",
    "\n",
    "if __name__ == '__main__':\n",
    "    app.run(host='0.0.0.0',port='41253')"
   ]
  },
  {
   "cell_type": "code",
   "execution_count": null,
   "id": "19dad45a",
   "metadata": {},
   "outputs": [],
   "source": []
  }
 ],
 "metadata": {
  "kernelspec": {
   "display_name": "Python 3",
   "language": "python",
   "name": "python3"
  },
  "language_info": {
   "codemirror_mode": {
    "name": "ipython",
    "version": 3
   },
   "file_extension": ".py",
   "mimetype": "text/x-python",
   "name": "python",
   "nbconvert_exporter": "python",
   "pygments_lexer": "ipython3",
   "version": "3.8.10"
  }
 },
 "nbformat": 4,
 "nbformat_minor": 5
}
