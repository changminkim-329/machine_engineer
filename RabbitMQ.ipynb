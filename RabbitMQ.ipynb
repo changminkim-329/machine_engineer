{
 "cells": [
  {
   "cell_type": "markdown",
   "id": "adb04b5c",
   "metadata": {},
   "source": [
    "# RabbitMQ\n",
    "<img src='https://img1.daumcdn.net/thumb/R1280x0/?scode=mtistory2&fname=https%3A%2F%2Fblog.kakaocdn.net%2Fdn%2FFUBlg%2FbtqBE0dND5w%2FtLY1EWgq4DU5Kinkfb3HSK%2Fimg.png' width='400px'></img>\n",
    "- 프로그램간 메시지를 쉽게 주고 받을 수 있도록 하는 Message Quene.\n",
    "- 기본적으로 **Producer**에서 생성한 **Message**를 **Queue**를 이용해서 **Consumer**에게 전달하는 Producer-Consumer 패턴.\n",
    "![](https://snowdeer.github.io/assets/python/001.png)\n",
    "- Producer와 Consumer간 느슨한 결합을 할 수 있게 해준다."
   ]
  },
  {
   "cell_type": "code",
   "execution_count": null,
   "id": "e4181833",
   "metadata": {},
   "outputs": [],
   "source": []
  },
  {
   "cell_type": "markdown",
   "id": "9a0d136c",
   "metadata": {},
   "source": [
    "## RabbitMQ 기본 구조\n",
    "![](https://nesoy.github.io/assets/posts/20190214/5.png)\n",
    "![](https://img1.daumcdn.net/thumb/R1280x0/?scode=mtistory2&fname=https%3A%2F%2Fk.kakaocdn.net%2Fdn%2F8Cdme%2Fbtrk8O6cSgy%2Fqawz9dchiC1bb0JwlOWwU0%2Fimg.png)\n",
    "- 메시지를 발행하는 Producer 에서 Broker 의 Exchange 로 메시지를 전달하면, Binding 이라는 규칙에 의해 연결된 Queue 로 메시지가 복사된다. 메시지를 받아가는 Consumer 에서는 브로커의 Queue를 통해 메시지를 받아가서 처리한다.\n",
    "- **Exchange**는 메세지를 Queue로 분배하는 Routing 기능을 수행하며, Exchange Type을통해 여러 메세지 분배 알고리즘을 지정할 수 있다.\n",
    "\n",
    "\n",
    "### Producer\n",
    "- 메시지를 생성하고 발송하는 주체, 메시지 전달 시 Queue에 전달하지 않고 Exchange를 통해 전달.\n",
    "\n",
    "### Consumer\n",
    "- 메시지를 수신하는 주체, Queue에 직접 접근하여 메시지를 가져옴.\n",
    "\n",
    "### Queue\n",
    "- Producer들이 발송한 메시지들이 Consumer가 소비하기 전까지 보관되는 장소.\n",
    "\n",
    "### Exchange\n",
    "- Producer들에게서 전달 받은 메시지들을 어떤 Queue들에게 발송할지 결정하는 주체\n",
    "- 일종의 라우터 개념으로 4가지 타입으로 바인딩 가능하며, 특징은 다음과 같다.\n",
    "\n",
    "#### Direct\n",
    "<div width='1000px'>\n",
    "    <div style=\"width:50%; height:150px; float:left;\">\n",
    "    <img src='https://img1.daumcdn.net/thumb/R1280x0/?scode=mtistory2&fname=https%3A%2F%2Fblog.kakaocdn.net%2Fdn%2Fcz1GiD%2FbtrqY9RYcWf%2Fqk5isXnzc96DUenU5xCdAK%2Fimg.png'></img>\n",
    "    </div>\n",
    "    <div style=\"width:50%; height:150px; float:left;\">\n",
    "    <img src= 'https://img1.daumcdn.net/thumb/R1280x0/?scode=mtistory2&fname=https%3A%2F%2Fblog.kakaocdn.net%2Fdn%2FFgf4U%2Fbtrq1gpf7lW%2FraHbV09woJxhPLH8OkHdOk%2Fimg.png'></img>\n",
    "    </div>\n",
    "</div>\n",
    "- 라우팅 키가 정확히 일치하는 Queue에 메시지 전송\n",
    "- RabbitMQ에서 사용되는 디폴트 exchange\n",
    "- 하나의 queue에 여러개의 routing key를 지정할 수 있고 여러 queue에 동일한 routing key를 지정할 수 있음.\n",
    "- exchange:queue = 1:N\n",
    "\n",
    "#### Topic\n",
    "<img src='https://img1.daumcdn.net/thumb/R1280x0/?scode=mtistory2&fname=https%3A%2F%2Fblog.kakaocdn.net%2Fdn%2FcnhJU6%2Fbtrq0t3JfxE%2FjpokZEjjDL8Opwk9jbFH6K%2Fimg.png'></img>\n",
    "- 라우팅 패턴이 일치하는 Queue에 메시지 전송(Multicast)\n",
    "- direct는 routing key가 완전 일치해야 메세지를 전달 할 수 있는데, topic은 패턴을 정해서 binding 규칙을 정의하기 때문에 direct방식보다는 좀 더 유연하게 정의해서 메세지를 전송할 수 있다.\n",
    "- **규칙:**\n",
    "    - <h5>* : 단어 1개를 대체</h5>\n",
    "    - <h5># : 0개 이상의 단어를 대체 (없거나 하나 이상의 단어를 의미)</h5>\n",
    "- 어떤 queue에 routing key를 2개 지정했을 때, \n",
    "    만약 routing key가 topic패턴에 모두 일치하게 되었다고 가정해본다. \n",
    "    그러면 메세지 전달이 2번 되는 것이 아니라 queue에 1번만 전달된다. \n",
    "    즉, 하나의 queue에 N개의 routing key가 있고, 패턴도 모두 일치한다고 하더라도 메세지 한번만 전달된다.\n",
    "    \n",
    "- **예시)**\n",
    "    - routing key를  quick.orange.rabbit으로 지정하여 전송했을 때 : Q1과 Q2 모두 메세지를 받는다.\n",
    "    - routing key를  quick.orange.fox로 지정하여 전송했을 때 : Q1만 메세지를 받는다.\n",
    "    - routing key를 lazy.orange.male.rabbit으로 지정하여 전송했을 때 : Q2만 메시지 받음\n",
    "    \n",
    "#### Headers\n",
    "<img src='https://img1.daumcdn.net/thumb/R1280x0/?scode=mtistory2&fname=https%3A%2F%2Fblog.kakaocdn.net%2Fdn%2FbPPFsY%2Fbtrq22YoG1a%2FDvm8p5aAkBYo2Ek5cJucKK%2Fimg.png' width='500px'></img>\n",
    "- [Key,Value]로 이루어진 header값을 기준으로 일치하는 Queue에 메시지 전송(Multicast)\n",
    "- 1) x-match:all : header의 key-value와 argument의 key-value가 정확히 일치해야 binding\n",
    "- 2) x-mathc:any : producer가 전송하는 header의 key-value 값과 argument의 key-value값 중 하나라도 일치하는것이 있으면 binding\n",
    "\n",
    "#### Fanout\n",
    "<img src='https://img1.daumcdn.net/thumb/R1280x0/?scode=mtistory2&fname=https%3A%2F%2Fblog.kakaocdn.net%2Fdn%2FuEZzE%2FbtrqXwUebZI%2F3Lu7DhORrXb2y6lWMi3KxK%2Fimg.png'></img>\n",
    "- 해당 Exchange에 등록된 모든 Queue에 메시지 전송(Broadcast)\n",
    "\n",
    "\n",
    "#### Binding\n",
    "- Exchange에게 메시지를 라우팅할 규칙을 지정하는 행위.\n",
    "- 특정 조건에 맞는 메시지를 특정 Queue에 전송할 수 있는데 Exchange 타입에 맞게 설정해야 됨.\n",
    "- exchange와 queue와의 관계를 의미.\n",
    "\n",
    "\n",
    "### Message 및 Queue 보존\n",
    "- RabbitMQ 서버가 종료되면 Queue는 모두 제거된다.\n",
    "- 메시지와 Queue를 보존하기 위해서 Queue를 생성할 때 Durable 옵션을 true로 주어야한다. 또한, Producer가 메시지 발송 시 PERSISTENT_TEXT_PLAIN 옵션을 주어야 한다.\n",
    "\n",
    "\n",
    "### 가상호스트(virtual host, vhost)\n",
    "![](https://img1.daumcdn.net/thumb/R1280x0/?scode=mtistory2&fname=https%3A%2F%2Fblog.kakaocdn.net%2Fdn%2Fd2wyBu%2FbtrofFmwzTu%2FaZRXJrcftjWsyy4eqtt7kk%2Fimg.png)\n",
    "- 기본적으로 웹서버에 존재하는 주 호스트 도메인을 등록하여 사용하고 있지만 추가적으로 한 서버에 여러 도메인을 등록하여 사용한다는 의미\n",
    "\n",
    "#### 사용목적\n",
    "- 가상 호스트에 매핑된 도메인 이름을 기준으로 같은 IP로 서로 다른 웹 애플리케이션에 매핑.\n",
    "\n",
    "### RabbitMQ에서 vhost\n",
    "- RabbitMQ의 가상호스트(Virtual Host) 설정을 통해 각 사용자마다 격리된 환경을 제공할 수 있습니다.\n",
    "\n",
    "- 아파치의 가상호스트와 비슷한 개념으로 하나의 RabbitMQ에서 각각 다른 환경으로 사용할 수 있다.\n",
    "\n",
    "- 사용자마다 가상 호스트에 권한을 부여하여, 권한이 있는 사용자만 접근하도록 할 수 있다.\n",
    "- 하나의 Broker에서 운영환경에 따라 Exchange, Queue 등을 각각 사용할 수 있는 Vhosts(가상 호스트) 컨셉을 갖고 있다."
   ]
  },
  {
   "cell_type": "markdown",
   "id": "b8c7fb39",
   "metadata": {},
   "source": [
    "<div style='justify-content: center' width='500px'>\n",
    "    <div style=\"width:50%; height:150px; float:left;\">\n",
    "    <img src='https://img1.daumcdn.net/thumb/R1280x0/?scode=mtistory2&fname=https%3A%2F%2Fblog.kakaocdn.net%2Fdn%2Fcz1GiD%2FbtrqY9RYcWf%2Fqk5isXnzc96DUenU5xCdAK%2Fimg.png'></img>\n",
    "    </div>\n",
    "    <div style=\"width:50%; height:150px; float:left;\">\n",
    "    <img src= 'https://img1.daumcdn.net/thumb/R1280x0/?scode=mtistory2&fname=https%3A%2F%2Fblog.kakaocdn.net%2Fdn%2FFgf4U%2Fbtrq1gpf7lW%2FraHbV09woJxhPLH8OkHdOk%2Fimg.png'></img>\n",
    "    </div>\n",
    "</div>"
   ]
  },
  {
   "cell_type": "code",
   "execution_count": null,
   "id": "23de4356",
   "metadata": {},
   "outputs": [],
   "source": []
  },
  {
   "cell_type": "markdown",
   "id": "be7f3f9a",
   "metadata": {},
   "source": [
    "### RabbitMQ 쓰는 이유\n",
    "- backend에서도 front, back이 나뉘게 된다.back의 front와 back의 back, 보통 앞은 RESTful, SOAP, GraphQL등의 API서버라고 불리게 되고 뒷단은 Analysis서버라고 불리게된다. 이 둘을 한 서버에서 돌리는건 위험하다(실무에서는 한 컴퓨터에서 한 서버를 돌리니까 정확히 말하면 한 컴퓨터에서 돌리는게 위험하다고 볼 수 있다.) 왜냐하면 사용자가 접속해서 트래픽을 발생시키는 API와 데이터를 계속해서 처리하고 있는 분석서버가 같이 돌아가면 사용자가 갑자기 트래픽이 폭주하는 상황에서 뜬금없이 분석서버가 사망,반대로 갑자기 분석할 데이터양이 늘어나서 폭주해서 API서버가 뜬금없이 죽어서 분명 분석서버가 죽었는데 로그인까지 못하는 어처구니 없는 상황이 일어난다.\n",
    "- 그래서 서버는 계속해서 분할하는게 가용성측면에서 이득을 본다. 그리고 이렇게 해야 확장성도 용이하게 된다.\n",
    "- 이러한 구조를 MSA(마이크로 서비스 아키텍쳐)라고 부르게된다\n",
    "\n",
    "\n",
    "#### 문제는 이렇게 분할된 서버들을 어떻게 데이터를 주고받을 것이냐는 것이다.\n",
    "사실 그냥 다이렉트로 주고받으면 안되냐?라고 생각할 수 있다.하지만 그렇게 하지 않는 정말 실무적인 이유가 있다. 가령 API서버와 분석서버간의 통신을 예시로 들어보자. 분석서버가 데이터 분석을 끝내고 이를 API서버로 요청해서 데이터를 적재한다고 가정하자. 근데 분석서버의 데이터가 갑자기 폭주했다고 가정하자. 이 때 API서버가 폭주하는 데이터를 버텨내지 못하고... 죽어버렸다면? 서비스는 멈추게 된다. 그래서 큐에 적재하고 큐에서 완충역활을 하는 녀석이 있어주면 좋다. 데이터가 폭주하는 최악에 상황에서 어짜피 죽는건 큐다. 그럼 API서버는 무사하므로 일반 웹은 계속 돌아간다. 그럼 분석은 추가적으로 안되겠지만 DB도 무사하고 인증서버도 무사하므로 그냥 평소처럼 웹을 사용할 수 있다.\n",
    "\n",
    "#### 요약\n",
    "- 1.데이터들을 쌓아두는 창고, 수틀려도 이 MQ녀석만 죽어서 서비스는 돌아간다.\n",
    "- 2.그런데 AMQP형식을 지키고 있다. 그래서 양쪽 서버에서 AMQP형식만 맞춰주면(어뎁터만 맞추면) 잘돌아간다.\n",
    "\n",
    "- 3.그런데 메이저 언어를 다 지원해서 각 언어의 장점이 맞는 부분을 사용할 수 있다.\n",
    "- 4. 그래서 RabbitMQ가 실무에서 자주 쓰임."
   ]
  },
  {
   "cell_type": "code",
   "execution_count": null,
   "id": "570ca4cf",
   "metadata": {},
   "outputs": [],
   "source": []
  },
  {
   "cell_type": "markdown",
   "id": "2db40ec5",
   "metadata": {},
   "source": [
    "## RabbitMQ 설치 및 사용법"
   ]
  },
  {
   "cell_type": "markdown",
   "id": "4de2bf09",
   "metadata": {},
   "source": [
    "### 설치"
   ]
  },
  {
   "cell_type": "markdown",
   "id": "b8d88ab5",
   "metadata": {},
   "source": [
    "#### RabbitMQ\n",
    "- 기능적으로 완전하고 안정적이며 내구성이 뛰어나고 설치가 쉽다"
   ]
  },
  {
   "cell_type": "markdown",
   "id": "98f8109d",
   "metadata": {},
   "source": [
    "- **Ubuntu**"
   ]
  },
  {
   "cell_type": "code",
   "execution_count": null,
   "id": "4ca6fea9",
   "metadata": {},
   "outputs": [],
   "source": [
    "apt-get install rabbit-server"
   ]
  },
  {
   "cell_type": "markdown",
   "id": "47fcea69",
   "metadata": {},
   "source": [
    "- **Docker**"
   ]
  },
  {
   "cell_type": "code",
   "execution_count": null,
   "id": "8857953a",
   "metadata": {},
   "outputs": [],
   "source": [
    "docker run -d -p 5672:5672 rabbitmq"
   ]
  },
  {
   "cell_type": "markdown",
   "id": "15c85fc5",
   "metadata": {},
   "source": [
    "- **MacOS**"
   ]
  },
  {
   "cell_type": "code",
   "execution_count": null,
   "id": "58caeec8",
   "metadata": {},
   "outputs": [],
   "source": [
    "brew install rabbitmq"
   ]
  },
  {
   "cell_type": "code",
   "execution_count": null,
   "id": "f1a73fda",
   "metadata": {},
   "outputs": [],
   "source": []
  },
  {
   "cell_type": "markdown",
   "id": "ac7c3e21",
   "metadata": {},
   "source": [
    "### RabbitMQ Server 실행 및 상태확인\n",
    "- RabbitMQ Server를 실행하는 두가지 방식 존재"
   ]
  },
  {
   "cell_type": "markdown",
   "id": "d35ae8aa",
   "metadata": {},
   "source": [
    "rabbitmq-server : Fore-ground 실행 방식이며, 창을 종료하면 서비스도 같이 종료됨."
   ]
  },
  {
   "cell_type": "code",
   "execution_count": null,
   "id": "ec554a57",
   "metadata": {},
   "outputs": [],
   "source": [
    "cd /usr/local/Celler/rabbitmq\n",
    "./rabbitmq-server"
   ]
  },
  {
   "cell_type": "markdown",
   "id": "04658c5d",
   "metadata": {},
   "source": [
    "rabbitmqctl [start|stop] : Back-ground 방식으로 실행화면이 눈에 보이지 않으며, 별도의 명령이나 프로세스가 종료되기 전까지 실행됨. "
   ]
  },
  {
   "cell_type": "code",
   "execution_count": null,
   "id": "9adfa334",
   "metadata": {},
   "outputs": [],
   "source": [
    "cd /usr/local/Celler/rabbitmq\n",
    "\n",
    "# 시작\n",
    "./rabbitctl start \n",
    "\n",
    "# 종료\n",
    "./rabbitctl stop"
   ]
  },
  {
   "cell_type": "markdown",
   "id": "70f5aab4",
   "metadata": {},
   "source": [
    "#### 상태 확인"
   ]
  },
  {
   "cell_type": "code",
   "execution_count": null,
   "id": "24f1dad2",
   "metadata": {},
   "outputs": [],
   "source": [
    "./rabbitmqctl status"
   ]
  },
  {
   "cell_type": "code",
   "execution_count": null,
   "id": "beda36d0",
   "metadata": {},
   "outputs": [],
   "source": []
  },
  {
   "cell_type": "markdown",
   "id": "900f96ee",
   "metadata": {},
   "source": [
    "### RabbitMQ Server Management Plugin 설정\n",
    "- RabbitMQ Server를 GUI로 관리하기 위한 플러그인. \n",
    "- 이 플러그인을 사용하지 않으면 rabbitmqctl툴로 명령어를 직접 타이핑해야하는 어려움이 있으므로, 사용하는 것을 추천함."
   ]
  },
  {
   "cell_type": "markdown",
   "id": "195728c9",
   "metadata": {},
   "source": [
    "#### 플러그인 적용."
   ]
  },
  {
   "cell_type": "code",
   "execution_count": null,
   "id": "2ec6dff1",
   "metadata": {},
   "outputs": [],
   "source": [
    "./rabbitmq-plugins enable rabbitmq_management"
   ]
  },
  {
   "cell_type": "markdown",
   "id": "ea71e4cf",
   "metadata": {},
   "source": [
    "#### 플러그인 적용 확인\n",
    "- 사진과 같이 [E*] 또는 [e*]로 표시되면 적용 완료."
   ]
  },
  {
   "cell_type": "code",
   "execution_count": 1,
   "id": "e0f4ae0b",
   "metadata": {},
   "outputs": [
    {
     "name": "stdout",
     "output_type": "stream",
     "text": [
      "3\n"
     ]
    }
   ],
   "source": [
    "./rabbitmq-plugins list"
   ]
  },
  {
   "cell_type": "markdown",
   "id": "81764e3e",
   "metadata": {},
   "source": [
    "<img src='https://img1.daumcdn.net/thumb/R1280x0/?scode=mtistory2&fname=https%3A%2F%2Fblog.kakaocdn.net%2Fdn%2Fcpn3H7%2FbtqAZOXMd35%2F5bOOSCBROMjeY99l3qzRdK%2Fimg.png' width='400px'></img>"
   ]
  },
  {
   "cell_type": "code",
   "execution_count": null,
   "id": "51404a52",
   "metadata": {},
   "outputs": [],
   "source": []
  },
  {
   "cell_type": "markdown",
   "id": "7683fcf3",
   "metadata": {},
   "source": [
    "### RabbitMQ Server 관리 페이지 접속(모니터링)"
   ]
  },
  {
   "cell_type": "code",
   "execution_count": null,
   "id": "06287821",
   "metadata": {},
   "outputs": [],
   "source": [
    "127.0.0.1:15672"
   ]
  },
  {
   "cell_type": "markdown",
   "id": "4eeee274",
   "metadata": {},
   "source": [
    "기본적으로 관리자 권한을 가진 guest 유저 제공. 해당 계정은 외부에서 접속 못함.\n",
    "- username: guest\n",
    "- password: quest\n"
   ]
  },
  {
   "cell_type": "markdown",
   "id": "2ea949a7",
   "metadata": {},
   "source": [
    "### RabbitMQ Server 유저 생성.\n",
    "- RabbitMQ Server 관리화면에서 [Admin] 탭에서 매우 쉽게 유저를 추가할 수 있으므로, 명령어을 사용하여 어떻게 추가할 수 있다."
   ]
  },
  {
   "cell_type": "markdown",
   "id": "78e3dd04",
   "metadata": {},
   "source": [
    "#### 유저 생성"
   ]
  },
  {
   "cell_type": "code",
   "execution_count": null,
   "id": "a8e63afe",
   "metadata": {},
   "outputs": [],
   "source": [
    "./rabbitmqctl add_user <username> <password>\n",
    "# ex) ./rabbitctl add_user jinwoo jinwoo1234"
   ]
  },
  {
   "cell_type": "markdown",
   "id": "6b63c1de",
   "metadata": {},
   "source": [
    "#### 유저 역할 설정\n",
    "- 역할: administrator, monitoring, policymaker, management, none"
   ]
  },
  {
   "cell_type": "code",
   "execution_count": null,
   "id": "a6f6bf0a",
   "metadata": {},
   "outputs": [],
   "source": [
    "./rabbitmqctl set_user_tags <username> <rule>\n",
    "# ex) ./rabbitmqctl set_user_tags jinwoo administrator"
   ]
  },
  {
   "cell_type": "markdown",
   "id": "6268651b",
   "metadata": {},
   "source": [
    "#### 유저 확인"
   ]
  },
  {
   "cell_type": "code",
   "execution_count": null,
   "id": "43d44a80",
   "metadata": {},
   "outputs": [],
   "source": [
    "./rabbitmqctl list_users"
   ]
  },
  {
   "cell_type": "code",
   "execution_count": null,
   "id": "5879beef",
   "metadata": {},
   "outputs": [],
   "source": []
  },
  {
   "cell_type": "markdown",
   "id": "4898f64c",
   "metadata": {},
   "source": [
    "#### 유저 vhost 권한 설정\n",
    "- RabbitMQ에는 Virtual Host라는 개념이 존재하는데\n",
    "- Message Queue의 주소"
   ]
  },
  {
   "cell_type": "code",
   "execution_count": null,
   "id": "d818cf2a",
   "metadata": {},
   "outputs": [],
   "source": [
    "./rabbitmqctl set_permissions [-p <vhostpath>] <user> <conf> <write> <read>\n",
    "# ex) ./rabbitmqctl set_permissions -p / \"jinwoo\" \".*\" \".*\" \".*\""
   ]
  },
  {
   "cell_type": "markdown",
   "id": "94df7403",
   "metadata": {},
   "source": [
    "#### 유저 vhost 권한 확인"
   ]
  },
  {
   "cell_type": "code",
   "execution_count": null,
   "id": "33b938e0",
   "metadata": {},
   "outputs": [],
   "source": [
    "./rabbitmqctl list_permissions"
   ]
  },
  {
   "cell_type": "code",
   "execution_count": null,
   "id": "760ab910",
   "metadata": {},
   "outputs": [],
   "source": []
  },
  {
   "cell_type": "markdown",
   "id": "14b44fa4",
   "metadata": {},
   "source": []
  },
  {
   "cell_type": "markdown",
   "id": "a18efd73",
   "metadata": {},
   "source": []
  }
 ],
 "metadata": {
  "kernelspec": {
   "display_name": "Python 3",
   "language": "python",
   "name": "python3"
  },
  "language_info": {
   "codemirror_mode": {
    "name": "ipython",
    "version": 3
   },
   "file_extension": ".py",
   "mimetype": "text/x-python",
   "name": "python",
   "nbconvert_exporter": "python",
   "pygments_lexer": "ipython3",
   "version": "3.8.10"
  }
 },
 "nbformat": 4,
 "nbformat_minor": 5
}
