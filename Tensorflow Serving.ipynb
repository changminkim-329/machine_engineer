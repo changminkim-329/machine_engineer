{
 "cells": [
  {
   "cell_type": "markdown",
   "id": "d4018667",
   "metadata": {},
   "source": [
    "# Tensorflow Serving"
   ]
  },
  {
   "cell_type": "markdown",
   "id": "014ad3a0",
   "metadata": {},
   "source": [
    "- 텐서플로우 서빙(TensorFlow Serving)은 구글에서 만든 유연하고(flexible), 고성능의(high-performance) serving 시스템.\n",
    "- 프로덕션(production) 환경을 위해 고안된 머신러닝 모델을 serving 한다.\n",
    "- 장점: 웹 프레임워크를 이용하는 경우와 비교하여 일반적으로 처리 속도가 빠름.\n",
    "- 단점: 기존 api 서버와 별개로 인퍼런스 서버를 따로 구축해야 됨.(사실 단점이자 장점으로 서버가 분리되어 관리되기 쉽고 가장 안정적.)"
   ]
  },
  {
   "cell_type": "code",
   "execution_count": null,
   "id": "ad9c0b10",
   "metadata": {},
   "outputs": [],
   "source": []
  },
  {
   "cell_type": "markdown",
   "id": "736a17fb",
   "metadata": {},
   "source": [
    "### Tensorflow Serving VS Flask REST API\n",
    "- 참조: https://roadcom.tistory.com/107\n",
    "- 비교 대상\n",
    "    - Flask REST API\n",
    "    - REST API[Tensorflow Serving]\n",
    "    - gRPC API[Tensorflow Serving]\n",
    "- Model Serving Benchmark\n",
    "    - 결과: gRPC(TF) > REST(TF) >> Flask > Flask+gunicorn 순\n",
    "\n",
    "|Metric| gRPC (TF)| REST (TF)| Flask|\tFlask+gunicorn|\n",
    "|------|---|---|---|---|\n",
    "|AVG (s)| 0.983|\t1.624|\t9.088|\t9.394|\n",
    "|STD (s)| 0.011|\t0.021|\t0.378|\t0.348|"
   ]
  },
  {
   "cell_type": "code",
   "execution_count": null,
   "id": "323a3b19",
   "metadata": {},
   "outputs": [],
   "source": []
  },
  {
   "cell_type": "markdown",
   "id": "6a214cd7",
   "metadata": {},
   "source": [
    "### 예제) MNIST"
   ]
  },
  {
   "cell_type": "code",
   "execution_count": 1,
   "id": "af457d84",
   "metadata": {},
   "outputs": [],
   "source": [
    "import tensorflow as tf\n",
    "from tensorflow import keras \n",
    "from tensorflow.keras.datasets import mnist\n",
    "import numpy as np\n",
    "from tensorflow.keras import models,layers\n",
    "import matplotlib.pyplot as plt"
   ]
  },
  {
   "cell_type": "code",
   "execution_count": 2,
   "id": "c903a8f6",
   "metadata": {},
   "outputs": [],
   "source": [
    "(x_train, y_train), (x_test, y_test) = mnist.load_data()"
   ]
  },
  {
   "cell_type": "code",
   "execution_count": 3,
   "id": "b2dde2b0",
   "metadata": {},
   "outputs": [],
   "source": [
    "X_train = np.expand_dims(((x_train-127.5)/127.5),3)\n",
    "X_test = np.expand_dims(((x_test-127.5)/127.5),3)\n",
    "\n",
    "Y_train = tf.one_hot(y_train,10)\n",
    "Y_test = tf.one_hot(y_test,10)"
   ]
  },
  {
   "cell_type": "code",
   "execution_count": 4,
   "id": "fbf0754f",
   "metadata": {},
   "outputs": [],
   "source": [
    "model = models.Sequential([\n",
    "    layers.Conv2D(32, 3, activation='relu', input_shape=(28,28,1)),\n",
    "    layers.Conv2D(64, 3, activation='relu'),\n",
    "    layers.MaxPooling2D(2,2),\n",
    "    layers.Conv2D(128, 3, activation='relu'),\n",
    "    layers.Conv2D(256, 3, activation='relu'),\n",
    "    layers.MaxPooling2D(2,2),\n",
    "    layers.Conv2D(128, 3, activation='relu'),\n",
    "    layers.GlobalAvgPool2D(),\n",
    "    layers.Dense(10,activation='softmax')\n",
    "])"
   ]
  },
  {
   "cell_type": "code",
   "execution_count": 5,
   "id": "c7d3bc80",
   "metadata": {},
   "outputs": [
    {
     "name": "stdout",
     "output_type": "stream",
     "text": [
      "Model: \"sequential\"\n",
      "_________________________________________________________________\n",
      " Layer (type)                Output Shape              Param #   \n",
      "=================================================================\n",
      " conv2d (Conv2D)             (None, 26, 26, 32)        320       \n",
      "                                                                 \n",
      " conv2d_1 (Conv2D)           (None, 24, 24, 64)        18496     \n",
      "                                                                 \n",
      " max_pooling2d (MaxPooling2D  (None, 12, 12, 64)       0         \n",
      " )                                                               \n",
      "                                                                 \n",
      " conv2d_2 (Conv2D)           (None, 10, 10, 128)       73856     \n",
      "                                                                 \n",
      " conv2d_3 (Conv2D)           (None, 8, 8, 256)         295168    \n",
      "                                                                 \n",
      " max_pooling2d_1 (MaxPooling  (None, 4, 4, 256)        0         \n",
      " 2D)                                                             \n",
      "                                                                 \n",
      " conv2d_4 (Conv2D)           (None, 2, 2, 128)         295040    \n",
      "                                                                 \n",
      " global_average_pooling2d (G  (None, 128)              0         \n",
      " lobalAveragePooling2D)                                          \n",
      "                                                                 \n",
      " dense (Dense)               (None, 10)                1290      \n",
      "                                                                 \n",
      "=================================================================\n",
      "Total params: 684,170\n",
      "Trainable params: 684,170\n",
      "Non-trainable params: 0\n",
      "_________________________________________________________________\n"
     ]
    }
   ],
   "source": [
    "model.summary()"
   ]
  },
  {
   "cell_type": "code",
   "execution_count": 6,
   "id": "9049d4b6",
   "metadata": {},
   "outputs": [],
   "source": [
    "model.compile(\n",
    "    optimizer='adam',\n",
    "    loss=keras.losses.categorical_crossentropy,\n",
    "    metrics=['accuracy']\n",
    ")"
   ]
  },
  {
   "cell_type": "code",
   "execution_count": 7,
   "id": "237cac0d",
   "metadata": {},
   "outputs": [
    {
     "name": "stdout",
     "output_type": "stream",
     "text": [
      "Epoch 1/5\n",
      "400/400 [==============================] - 4s 6ms/step - loss: 0.2031 - accuracy: 0.9343 - val_loss: 0.0749 - val_accuracy: 0.9768\n",
      "Epoch 2/5\n",
      "400/400 [==============================] - 2s 5ms/step - loss: 0.0473 - accuracy: 0.9850 - val_loss: 0.0382 - val_accuracy: 0.9888\n",
      "Epoch 3/5\n",
      "400/400 [==============================] - 2s 5ms/step - loss: 0.0303 - accuracy: 0.9903 - val_loss: 0.0298 - val_accuracy: 0.9914\n",
      "Epoch 4/5\n",
      "400/400 [==============================] - 2s 5ms/step - loss: 0.0231 - accuracy: 0.9926 - val_loss: 0.0273 - val_accuracy: 0.9920\n",
      "Epoch 5/5\n",
      "400/400 [==============================] - 2s 5ms/step - loss: 0.0197 - accuracy: 0.9937 - val_loss: 0.0324 - val_accuracy: 0.9901\n"
     ]
    },
    {
     "data": {
      "text/plain": [
       "<keras.callbacks.History at 0x7f03c843db50>"
      ]
     },
     "execution_count": 7,
     "metadata": {},
     "output_type": "execute_result"
    }
   ],
   "source": [
    "model.fit(x=X_train,y=Y_train,batch_size=120,epochs=5,validation_split=0.2)"
   ]
  },
  {
   "cell_type": "code",
   "execution_count": null,
   "id": "75ae7262",
   "metadata": {},
   "outputs": [],
   "source": []
  },
  {
   "cell_type": "code",
   "execution_count": 8,
   "id": "d995d09b",
   "metadata": {},
   "outputs": [
    {
     "name": "stdout",
     "output_type": "stream",
     "text": [
      "313/313 [==============================] - 1s 3ms/step - loss: 0.0256 - accuracy: 0.9916\n"
     ]
    },
    {
     "data": {
      "text/plain": [
       "[0.025618936866521835, 0.991599977016449]"
      ]
     },
     "execution_count": 8,
     "metadata": {},
     "output_type": "execute_result"
    }
   ],
   "source": [
    "model.evaluate(x=X_test,y=Y_test)"
   ]
  },
  {
   "cell_type": "code",
   "execution_count": null,
   "id": "9ae7e804",
   "metadata": {},
   "outputs": [],
   "source": []
  },
  {
   "cell_type": "markdown",
   "id": "33b01f79",
   "metadata": {},
   "source": [
    "### saved_model 형식으로 저장\n",
    "- Tensorflow Serving을 이용하기 위해서는 **saved model**형식으로 모델을 저장되어야 됨.\n",
    "- 주의할 점은 Serving의 경우 자동으로 디렉터리 내에서 최신버전을 불러와서 서비을 하도록 되어있어, **버전에 대한 디렉토리가 꼭 존재해야 된다.** ex) model/mnist/1.1"
   ]
  },
  {
   "cell_type": "code",
   "execution_count": 9,
   "id": "8f931fcf",
   "metadata": {},
   "outputs": [
    {
     "name": "stderr",
     "output_type": "stream",
     "text": [
      "WARNING:absl:Found untraced functions such as _jit_compiled_convolution_op, _jit_compiled_convolution_op, _jit_compiled_convolution_op, _jit_compiled_convolution_op, _jit_compiled_convolution_op while saving (showing 5 of 5). These functions will not be directly callable after loading.\n"
     ]
    },
    {
     "name": "stdout",
     "output_type": "stream",
     "text": [
      "INFO:tensorflow:Assets written to: model/mnist/1/assets\n"
     ]
    },
    {
     "name": "stderr",
     "output_type": "stream",
     "text": [
      "INFO:tensorflow:Assets written to: model/mnist/1/assets\n"
     ]
    }
   ],
   "source": [
    "tf.saved_model.save(model,'model/mnist/1')"
   ]
  },
  {
   "cell_type": "code",
   "execution_count": 53,
   "id": "17f81781",
   "metadata": {},
   "outputs": [],
   "source": [
    "n = np.random.randint(0,len(X_test))"
   ]
  },
  {
   "cell_type": "code",
   "execution_count": 56,
   "id": "8acdfae8",
   "metadata": {
    "scrolled": true
   },
   "outputs": [
    {
     "data": {
      "text/plain": [
       "(1, 28, 28, 1)"
      ]
     },
     "execution_count": 56,
     "metadata": {},
     "output_type": "execute_result"
    }
   ],
   "source": [
    "X_test[n:n+1]"
   ]
  },
  {
   "cell_type": "code",
   "execution_count": null,
   "id": "11839011",
   "metadata": {},
   "outputs": [],
   "source": []
  },
  {
   "cell_type": "markdown",
   "id": "5d4025cc",
   "metadata": {},
   "source": [
    "### Docker 설정"
   ]
  },
  {
   "cell_type": "code",
   "execution_count": null,
   "id": "a393e3d7",
   "metadata": {},
   "outputs": [],
   "source": [
    "docker pull tensorflow/serving"
   ]
  },
  {
   "cell_type": "code",
   "execution_count": null,
   "id": "b5b4bb95",
   "metadata": {},
   "outputs": [],
   "source": [
    "docker run --rm -t -p 8501:8501 -v \"/home/changminkim/mnist/:/models/mnist\" \n",
    "    -e MODEL_NAME=mnist tensorflow/serving &"
   ]
  },
  {
   "cell_type": "code",
   "execution_count": null,
   "id": "ac4e0978",
   "metadata": {},
   "outputs": [],
   "source": []
  },
  {
   "cell_type": "code",
   "execution_count": null,
   "id": "dc311c89",
   "metadata": {},
   "outputs": [],
   "source": []
  },
  {
   "cell_type": "markdown",
   "id": "20af01d7",
   "metadata": {},
   "source": [
    "### tensorflow/server에 모델 predict 요청"
   ]
  },
  {
   "cell_type": "code",
   "execution_count": 141,
   "id": "d18201e5",
   "metadata": {},
   "outputs": [],
   "source": [
    "import json\n",
    "import requests\n",
    "from PIL import Image\n",
    "import numpy as np"
   ]
  },
  {
   "cell_type": "code",
   "execution_count": 147,
   "id": "fb29f993",
   "metadata": {},
   "outputs": [
    {
     "data": {
      "image/png": "[encoded data removed]",
      "text/plain": [
       "<Figure size 640x480 with 1 Axes>"
      ]
     },
     "metadata": {},
     "output_type": "display_data"
    },
    {
     "name": "stdout",
     "output_type": "stream",
     "text": [
      "정답: 5\n"
     ]
    }
   ],
   "source": [
    "n = np.random.randint(0,len(X_test))\n",
    "test_image = X_test[n:n+1]\n",
    "address = 'http://changminkimserver29672.iptime.org:8501/v1/models/mnist:predict'\n",
    "data = json.dumps({'instances':test_image.tolist()})\n",
    "\n",
    "result = requests.post(address,data=data)\n",
    "predictions = json.loads(str(result.content, 'utf-8'))\n",
    "\n",
    "plt.imshow((test_image[0,:,:,0]+1)/2)\n",
    "plt.title(\"answer: \"+str(np.argmax(predictions['predictions'])))\n",
    "plt.show()\n",
    "print(\"정답:\",np.argmax(predictions['predictions']))"
   ]
  },
  {
   "cell_type": "code",
   "execution_count": null,
   "id": "e950f0f9",
   "metadata": {},
   "outputs": [],
   "source": []
  },
  {
   "cell_type": "markdown",
   "id": "a83e8719",
   "metadata": {},
   "source": [
    "### 속도 테스트"
   ]
  },
  {
   "cell_type": "code",
   "execution_count": 126,
   "id": "c321a6e5",
   "metadata": {},
   "outputs": [],
   "source": [
    "import time"
   ]
  },
  {
   "cell_type": "code",
   "execution_count": 138,
   "id": "2cb00349",
   "metadata": {},
   "outputs": [],
   "source": [
    "test_image = X_train[:50000]\n",
    "address = 'http://changminkimserver29672.iptime.org:8501/v1/models/mnist:predict'\n",
    "data = json.dumps({'instances':test_image.tolist()})"
   ]
  },
  {
   "cell_type": "code",
   "execution_count": 140,
   "id": "d8425fd1",
   "metadata": {},
   "outputs": [
    {
     "name": "stdout",
     "output_type": "stream",
     "text": [
      "21.70534038543701\n"
     ]
    }
   ],
   "source": [
    "start_time = time.time()\n",
    "result = requests.post(address,data=data)\n",
    "predictions = json.loads(str(result.content, 'utf-8'))['predictions']\n",
    "last_time = time.time()\n",
    "\n",
    "print(last_time-start_time)"
   ]
  },
  {
   "cell_type": "code",
   "execution_count": null,
   "id": "5dd29274",
   "metadata": {},
   "outputs": [],
   "source": []
  },
  {
   "cell_type": "code",
   "execution_count": null,
   "id": "d1addc4f",
   "metadata": {},
   "outputs": [],
   "source": []
  },
  {
   "cell_type": "code",
   "execution_count": null,
   "id": "fd196385",
   "metadata": {},
   "outputs": [],
   "source": []
  },
  {
   "cell_type": "code",
   "execution_count": null,
   "id": "416ad9f7",
   "metadata": {},
   "outputs": [],
   "source": []
  }
 ],
 "metadata": {
  "kernelspec": {
   "display_name": "Python 3",
   "language": "python",
   "name": "python3"
  },
  "language_info": {
   "codemirror_mode": {
    "name": "ipython",
    "version": 3
   },
   "file_extension": ".py",
   "mimetype": "text/x-python",
   "name": "python",
   "nbconvert_exporter": "python",
   "pygments_lexer": "ipython3",
   "version": "3.8.10"
  }
 },
 "nbformat": 4,
 "nbformat_minor": 5
}
