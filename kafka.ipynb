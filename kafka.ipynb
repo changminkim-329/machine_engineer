{
 "cells": [
  {
   "cell_type": "code",
   "execution_count": null,
   "id": "b545d4c9",
   "metadata": {},
   "outputs": [],
   "source": []
  },
  {
   "cell_type": "markdown",
   "id": "49b24ed1",
   "metadata": {},
   "source": []
  },
  {
   "cell_type": "markdown",
   "id": "51a1d0b5",
   "metadata": {},
   "source": [
    "### 메시지 브로커 종류\n",
    "- RabbitMQ\n",
    "- Apache kafka\n",
    "- Redis\n",
    "- Celery"
   ]
  },
  {
   "cell_type": "code",
   "execution_count": null,
   "id": "13637ae1",
   "metadata": {},
   "outputs": [],
   "source": []
  }
 ],
 "metadata": {
  "kernelspec": {
   "display_name": "Python 3",
   "language": "python",
   "name": "python3"
  },
  "language_info": {
   "codemirror_mode": {
    "name": "ipython",
    "version": 3
   },
   "file_extension": ".py",
   "mimetype": "text/x-python",
   "name": "python",
   "nbconvert_exporter": "python",
   "pygments_lexer": "ipython3",
   "version": "3.8.10"
  }
 },
 "nbformat": 4,
 "nbformat_minor": 5
}
