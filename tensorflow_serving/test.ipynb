{
 "cells": [
  {
   "cell_type": "code",
   "execution_count": 2,
   "id": "ebcc85ad",
   "metadata": {},
   "outputs": [],
   "source": [
    "import json\n",
    "import requests\n",
    "from PIL import Image\n",
    "import numpy as np\n",
    "import time\n",
    "import tensorflow as tf"
   ]
  },
  {
   "cell_type": "code",
   "execution_count": null,
   "id": "a2fdefec",
   "metadata": {},
   "outputs": [],
   "source": []
  },
  {
   "cell_type": "code",
   "execution_count": 8,
   "id": "6d5e0986",
   "metadata": {},
   "outputs": [],
   "source": [
    "(x_train, y_train), (x_test, y_test) = tf.keras.datasets.mnist.load_data()"
   ]
  },
  {
   "cell_type": "code",
   "execution_count": 9,
   "id": "275efcd2",
   "metadata": {},
   "outputs": [],
   "source": [
    "X_train = np.expand_dims(((x_train-127.5)/127.5),3)"
   ]
  },
  {
   "cell_type": "code",
   "execution_count": 10,
   "id": "13fb8a47",
   "metadata": {},
   "outputs": [],
   "source": [
    "X_test = np.expand_dims(((x_test-127.5)/127.5),3)"
   ]
  },
  {
   "cell_type": "code",
   "execution_count": 19,
   "id": "352ac553",
   "metadata": {},
   "outputs": [],
   "source": [
    "test_image = X_train[:50000]\n",
    "address = 'http://changminkimserver29672.iptime.org:8501/v1/models/mnist:predict'\n",
    "data = json.dumps({'instances':test_image.tolist()})"
   ]
  },
  {
   "cell_type": "code",
   "execution_count": 23,
   "id": "fc2b2932",
   "metadata": {},
   "outputs": [
    {
     "name": "stdout",
     "output_type": "stream",
     "text": [
      "19.726860284805298\n"
     ]
    }
   ],
   "source": [
    "start_time = time.time()\n",
    "result = requests.post(address,data=data)\n",
    "predictions = json.loads(str(result.content, 'utf-8'))['predictions']\n",
    "last_time = time.time()\n",
    "\n",
    "print(last_time-start_time)"
   ]
  },
  {
   "cell_type": "code",
   "execution_count": null,
   "id": "57270844",
   "metadata": {},
   "outputs": [],
   "source": []
  }
 ],
 "metadata": {
  "kernelspec": {
   "display_name": "Python 3",
   "language": "python",
   "name": "python3"
  },
  "language_info": {
   "codemirror_mode": {
    "name": "ipython",
    "version": 3
   },
   "file_extension": ".py",
   "mimetype": "text/x-python",
   "name": "python",
   "nbconvert_exporter": "python",
   "pygments_lexer": "ipython3",
   "version": "3.8.10"
  }
 },
 "nbformat": 4,
 "nbformat_minor": 5
}
