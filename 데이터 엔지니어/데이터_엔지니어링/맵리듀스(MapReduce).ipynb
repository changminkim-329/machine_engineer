{
 "cells": [
  {
   "cell_type": "markdown",
   "metadata": {},
   "source": [
    "## 맵(Map)이란?\n",
    ": 데이터를 담아두는 자료구조<br>\n",
    ": key,value 값을 한쌍으로 가진다.-> key값을 통해 value값을 구한다.f(key) = value \n",
    "![](https://t1.daumcdn.net/cfile/tistory/273FF23B54F933222C)\n",
    "\n",
    "## 리듀스\n",
    ": 이 맵을 정리해 나가는(줄여 나가는) 방법.<br>\n",
    "-> key값을 기준으로 합치거나, 평균등을 내어 데이터의 양을 줄여 나가는 것.\n",
    "\n",
    "Ex) 하둡 빅데이터 프레임 워크\n",
    "![](https://t1.daumcdn.net/cfile/tistory/2133764B54F929D108)\n",
    "\n",
    "## 맵리듀스르 하는 이유?\n",
    ": 빅데이터는 양이 워낙 많기 때무에 처리 프로세스느 최대한 단순하게 만들어야 한다.<br>\n",
    "-> 기준이 되는 값은 하나 이어야 프로세스가 단순해진다.<br>\n",
    "-> key에 의한 value들의 계산도 단순해야 프로세스및 서버 구축이 단순해진다."
   ]
  },
  {
   "cell_type": "code",
   "execution_count": null,
   "metadata": {},
   "outputs": [],
   "source": []
  }
 ],
 "metadata": {
  "kernelspec": {
   "display_name": "Python 3",
   "language": "python",
   "name": "python3"
  },
  "language_info": {
   "codemirror_mode": {
    "name": "ipython",
    "version": 3
   },
   "file_extension": ".py",
   "mimetype": "text/x-python",
   "name": "python",
   "nbconvert_exporter": "python",
   "pygments_lexer": "ipython3",
   "version": "3.8.10"
  }
 },
 "nbformat": 4,
 "nbformat_minor": 2
}
