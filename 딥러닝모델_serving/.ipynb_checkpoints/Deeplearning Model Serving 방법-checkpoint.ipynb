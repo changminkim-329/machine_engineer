{
 "cells": [
  {
   "cell_type": "markdown",
   "id": "e7c67710",
   "metadata": {},
   "source": [
    "# Deeplearning Model Serving 방법"
   ]
  },
  {
   "cell_type": "markdown",
   "id": "30ff612b",
   "metadata": {},
   "source": [
    "#### 1. Django, Flask, FastAPI 등의 웹 프레임워크를 이용해 웹 서버를 구축하고 restful api로 인퍼런스 결과를 반환\n",
    "\n",
    "- 장점: 인퍼런스 이외의 클라이언트 요청도 존재하는 경우, 인퍼런스 요청과 다른 클라이언트 요청을 하나의 웹서버에서 처리할 수 있어 별로의 서버를 추가로 구축하지 않아도 됨.\n",
    "\n",
    "- 단점: 비동기처리 병렬처리를 위해서는 uvicorn, gunicorn 등 별도의 미들웨어 세팅이 필요함."
   ]
  },
  {
   "cell_type": "code",
   "execution_count": null,
   "id": "748e69b8",
   "metadata": {},
   "outputs": [],
   "source": []
  },
  {
   "cell_type": "markdown",
   "id": "b942f495",
   "metadata": {},
   "source": [
    "#### 2. tensorflow serving을 이용해 rest api를 구축하고 인퍼런스 결과를 반환\n",
    "- 장점: 웹 프레임워크를 이용하는 경우와 비교하여 일반적으로 처리 속도가 빠름.\n",
    "- 단점: 기존 api 서버와 별개로 인퍼런스 서버를 따로 구축해야 됨."
   ]
  },
  {
   "cell_type": "code",
   "execution_count": null,
   "id": "3db26201",
   "metadata": {},
   "outputs": [],
   "source": []
  },
  {
   "cell_type": "markdown",
   "id": "19efd544",
   "metadata": {},
   "source": [
    "#### 3. tensorflow-js를 이용해 클라이언트단에서 인퍼런스하는 방법\n",
    "- 장점: 별도의 api 서버없이 클라이언트단에서 인퍼런스 가능\n",
    "- 단점: 클라이언트 pc 스펙의 영향을 많이 받고 무거운 모델은 인퍼런스 시간이 매우 오래 걸림."
   ]
  },
  {
   "cell_type": "code",
   "execution_count": null,
   "id": "0081193e",
   "metadata": {},
   "outputs": [],
   "source": []
  }
 ],
 "metadata": {
  "kernelspec": {
   "display_name": "Python 3",
   "language": "python",
   "name": "python3"
  },
  "language_info": {
   "codemirror_mode": {
    "name": "ipython",
    "version": 3
   },
   "file_extension": ".py",
   "mimetype": "text/x-python",
   "name": "python",
   "nbconvert_exporter": "python",
   "pygments_lexer": "ipython3",
   "version": "3.8.10"
  }
 },
 "nbformat": 4,
 "nbformat_minor": 5
}
