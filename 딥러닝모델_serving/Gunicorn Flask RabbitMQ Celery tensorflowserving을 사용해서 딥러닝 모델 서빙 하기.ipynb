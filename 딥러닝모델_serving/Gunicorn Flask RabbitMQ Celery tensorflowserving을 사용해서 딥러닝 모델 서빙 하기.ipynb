{
 "cells": [
  {
   "cell_type": "markdown",
   "id": "327ffb33",
   "metadata": {},
   "source": [
    "# 딥러닝 모델 서빙(Gunicorn Flask RabbitMQ Celery tensorflowserving)"
   ]
  },
  {
   "cell_type": "markdown",
   "id": "8df16393",
   "metadata": {},
   "source": [
    "### gunicorn - Flask"
   ]
  },
  {
   "cell_type": "markdown",
   "id": "3c26171a",
   "metadata": {},
   "source": [
    "#### Flask 서버"
   ]
  },
  {
   "cell_type": "code",
   "execution_count": null,
   "id": "2ba51916",
   "metadata": {},
   "outputs": [],
   "source": [
    "# flask_server.py\n",
    "from flask import Flask, request, render_template\n",
    "from PIL import Image\n",
    "import numpy as np\n",
    "from serving_worker.serving import serving_task\n",
    "from base64 import b64encode\n",
    "import json\n",
    "\n",
    "from serving_worker.tasks import celery_worker\n",
    "app = Flask(__name__)\n",
    "\n",
    "@app.route('/')\n",
    "def index():\n",
    "    return render_template('index.html')\n",
    "\n",
    "@app.route('/serving',methods=['GET','POST'])\n",
    "def serving():\n",
    "    print(request.method)\n",
    "    if request.method == 'POST':\n",
    "        data = request.files['chooseFile']\n",
    "        data_byte = data.read()\n",
    "        data_base64 = b64encode(data_byte).decode()\n",
    "        \n",
    "        result = serving_task.delay(data_base64)\n",
    "        TASK_ID = result.id\n",
    "        return render_template('progress.html', TASK_ID = TASK_ID)\n",
    "\n",
    "    return render_template('serving.html')\n",
    "\n",
    "@app.route('/progress',methods=['GET','POST'])\n",
    "def progress():\n",
    "    print(request.method)\n",
    "    if request.method == 'POST':\n",
    "        TASK_ID = request.form['TASK_ID']\n",
    "\n",
    "        task = celery_worker.AsyncResult(TASK_ID)\n",
    "        print(\"시작\")\n",
    "        print(task)\n",
    "        print(task.ready())\n",
    "        print(task.state)\n",
    "        state = task.state\n",
    "        if state == 'SUCCESS':\n",
    "            print(task.get())\n",
    "            predict = task.get()\n",
    "            task.forget()\n",
    "        \n",
    "            return json.dumps({'state':state,'predict':predict})\n",
    "        return json.dumps({'state':state})\n",
    "\n",
    "    return render_template('progress.html',RESULT_ID=5)\n",
    "\n",
    "if __name__ == '__main__':\n",
    "    app.run(debug=True,host='0.0.0.0',port='8000')"
   ]
  },
  {
   "cell_type": "code",
   "execution_count": null,
   "id": "1d7b03e2",
   "metadata": {},
   "outputs": [],
   "source": [
    "gunicorn flask_server:app --bind=0.0.0.0:8000 -w 4"
   ]
  },
  {
   "cell_type": "code",
   "execution_count": null,
   "id": "f2f67812",
   "metadata": {},
   "outputs": [],
   "source": []
  },
  {
   "cell_type": "markdown",
   "id": "adb6deba",
   "metadata": {},
   "source": [
    "### RabbitMQ - Celery - tensorflow/serving"
   ]
  },
  {
   "cell_type": "markdown",
   "id": "631387c5",
   "metadata": {},
   "source": [
    "#### RabbitMQ 서버"
   ]
  },
  {
   "cell_type": "code",
   "execution_count": null,
   "id": "aa2e220e",
   "metadata": {},
   "outputs": [],
   "source": [
    "# Mac 기준\n",
    "# /usr/local/sbin\n",
    "./rabbitmq-server"
   ]
  },
  {
   "cell_type": "markdown",
   "id": "d03bad29",
   "metadata": {},
   "source": [
    "#### Celery 서버\n",
    "- broker : rabbitmq\n",
    "- backend: sqlite"
   ]
  },
  {
   "cell_type": "code",
   "execution_count": null,
   "id": "5ff518f7",
   "metadata": {},
   "outputs": [],
   "source": [
    "# serving_worker/tasks.py\n",
    "from celery import Celery \n",
    "\n",
    "celery_worker = Celery(\n",
    "    'serving_worker.tasks',\n",
    "    backend='db+sqlite:///results.sqlite',\n",
    "    broker='amqp://guest@localhost//',\n",
    "    include=['serving_worker.serving'])"
   ]
  },
  {
   "cell_type": "markdown",
   "id": "8f84a9bc",
   "metadata": {},
   "source": [
    "#### Celery - Tensorflow/serving\n",
    "- tensorflow 서버로 이미지 보내는 코드"
   ]
  },
  {
   "cell_type": "code",
   "execution_count": null,
   "id": "ccad8a03",
   "metadata": {},
   "outputs": [],
   "source": [
    "# serving_worker/serving.py\n",
    "from serving_worker.tasks import celery_worker\n",
    "from PIL import Image \n",
    "import numpy as np\n",
    "from base64 import b64decode\n",
    "from io import BytesIO\n",
    "import requests\n",
    "import json \n",
    "\n",
    "address = 'http://changminkimserver29672.iptime.org:8501/v1/models/mnist:predict'\n",
    "\n",
    "@celery_worker.task\n",
    "def serving_task(data_base64):\n",
    "    data_byte = b64decode(data_base64)\n",
    "    data_buffer = BytesIO(data_byte)\n",
    "    image = Image.open(data_buffer)\n",
    "    pre_image = (np.array(image).reshape((1,28,28,1)) - 127.5)/127.5\n",
    "    pre_image = pre_image.tolist()\n",
    "    data = {'instances':pre_image}\n",
    "    data = json.dumps(data)\n",
    "\n",
    "    result = requests.post(address,data)\n",
    "    data = result.content\n",
    "    data = json.loads(data)\n",
    "    predict = np.argmax(data['predictions'])\n",
    "    print(predict)\n",
    "    return int(predict)"
   ]
  },
  {
   "cell_type": "code",
   "execution_count": null,
   "id": "c4365557",
   "metadata": {},
   "outputs": [],
   "source": [
    "celery -A serving_worker.tasks worker --loglevel=info"
   ]
  },
  {
   "cell_type": "code",
   "execution_count": null,
   "id": "8e23a47d",
   "metadata": {},
   "outputs": [],
   "source": []
  }
 ],
 "metadata": {
  "kernelspec": {
   "display_name": "Python 3",
   "language": "python",
   "name": "python3"
  },
  "language_info": {
   "codemirror_mode": {
    "name": "ipython",
    "version": 3
   },
   "file_extension": ".py",
   "mimetype": "text/x-python",
   "name": "python",
   "nbconvert_exporter": "python",
   "pygments_lexer": "ipython3",
   "version": "3.8.10"
  }
 },
 "nbformat": 4,
 "nbformat_minor": 5
}
