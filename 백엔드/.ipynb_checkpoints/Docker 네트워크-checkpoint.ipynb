{
 "cells": [
  {
   "cell_type": "markdown",
   "id": "5c70ba54",
   "metadata": {},
   "source": [
    "# Docker 네트워크\n",
    "![](https://s1.md5.ltd/image/d7a972ab4bf11f293717ad6b351aaae1.png)\n",
    "- 사용자 -> AWS ip로 요청 (80번 포트) -> AWS 서버가 Nginx의 80번 포트와 연결 -> Nginx와 WAS(Django with gunicorn)의 8000번 포트 연결"
   ]
  },
  {
   "cell_type": "markdown",
   "id": "26f48a41",
   "metadata": {},
   "source": [
    "- Docker 컨테이너(container)는 격리된 환경에서 돌아가기 때문에 기본적으로 다른 컨테이너와 통신이 불가능.\n",
    "- 하지만 여러 개의 컨테이너를 하나의 Docker 네트워크(network)에 연결시키면 서로 통신이 가능."
   ]
  },
  {
   "cell_type": "markdown",
   "id": "2dea7508",
   "metadata": {},
   "source": [
    "### 네트워크 조회\n",
    "- docker network ls : Docker 네트워크 목록 조회"
   ]
  },
  {
   "cell_type": "code",
   "execution_count": null,
   "id": "c7a569b3",
   "metadata": {},
   "outputs": [],
   "source": [
    "# docker network ls\n",
    "NETWORK ID     NAME      DRIVER    SCOPE\n",
    "9214f0becfcd   bridge    bridge    local\n",
    "30b3fd92ca9e   host      host      local\n",
    "e8e4b2128090   none      null      local"
   ]
  },
  {
   "cell_type": "markdown",
   "id": "20eb2341",
   "metadata": {},
   "source": [
    "**bridge, host, none** 은 Docker 데몬(daemon)이 실행되면서 디폴트로 생성되는 네트워크.\n",
    "\n",
    "대부분의 경우에는 이러한 디폴트 네트워크를 이용하는 것 보다는 사용자가 직접 네트워크를 생성해서 사용하는 것이 권장."
   ]
  },
  {
   "cell_type": "code",
   "execution_count": null,
   "id": "876b3e88",
   "metadata": {},
   "outputs": [],
   "source": []
  },
  {
   "cell_type": "markdown",
   "id": "0d0797f9",
   "metadata": {},
   "source": [
    "### 네트워크 종류\n",
    "Docker 네트워크는 **bridge, host, overlay**등 목적에 따라 다양한 종류의 네트워크 드라이버(driver)를 지원.\n",
    "\n",
    "- **bridge** 네트워크는 하나의 호스트 컴퓨터내에서 여러 컨테이너들이 서로 소통할 수 있도록 함.\n",
    "- **host** 네트워크는 컨테이너를 호스트 컴퓨터와 동일한 네트워크에서 컨테이너를 돌리기 위해서 사용.\n",
    "\n",
    "- **overlay** 네트워크는 여러 호스트에 분산되어 돌아가는 컨테이너들간에 네트워키을 위해서 사용.\n",
    "\n",
    "- bridge는 기본값이고 가장 많이 사용되는 네트워크"
   ]
  },
  {
   "cell_type": "code",
   "execution_count": null,
   "id": "01b11c9c",
   "metadata": {},
   "outputs": [],
   "source": []
  },
  {
   "cell_type": "markdown",
   "id": "8eb96e4e",
   "metadata": {},
   "source": [
    "### 네트워크 생성\n",
    "- docker network create 네트워크_이름 : 새로운 Docker 네트워크를 생성."
   ]
  },
  {
   "cell_type": "code",
   "execution_count": 1,
   "id": "60950995",
   "metadata": {},
   "outputs": [],
   "source": [
    "# docker network create 네트워크_이름 \n",
    "# docker netowrk create 네트워크_이름 -d 드라이버"
   ]
  },
  {
   "cell_type": "code",
   "execution_count": null,
   "id": "3a06df0e",
   "metadata": {},
   "outputs": [],
   "source": []
  },
  {
   "cell_type": "markdown",
   "id": "8adcc0c5",
   "metadata": {},
   "source": [
    "### 네트워크 상세 정보 보기\n",
    "- docker network inspect 네트워크_이름"
   ]
  },
  {
   "cell_type": "code",
   "execution_count": null,
   "id": "d759fbd9",
   "metadata": {},
   "outputs": [],
   "source": [
    "# docker network inspect test-net\n",
    "{\n",
    "    \"Name\": \"test-net\",\n",
    "    \"Id\": \"8cc7a79860bf3d8fe44fb1cc0cace583b5809ba025767296ea33163cdda89c11\",\n",
    "    \"Created\": \"2022-09-20T16:27:03.506727462Z\",\n",
    "    \"Scope\": \"local\",\n",
    "    \"Driver\": \"bridge\",\n",
    "    \"EnableIPv6\": false,\n",
    "    \"IPAM\": {\n",
    "        \"Driver\": \"default\",\n",
    "        \"Options\": {},\n",
    "        \"Config\": [\n",
    "            {\n",
    "                \"Subnet\": \"172.18.0.0/16\",\n",
    "                \"Gateway\": \"172.18.0.1\"\n",
    "            }\n",
    "        ]\n",
    "    },\n",
    "    \"Internal\": false,\n",
    "    \"Attachable\": false,\n",
    "    \"Ingress\": false,\n",
    "    \"ConfigFrom\": {\n",
    "        \"Network\": \"\"\n",
    "    },\n",
    "    \"ConfigOnly\": false,\n",
    "    \"Containers\": {},\n",
    "    \"Options\": {},\n",
    "    \"Labels\": {}\n",
    "}\n"
   ]
  },
  {
   "cell_type": "markdown",
   "id": "096b38dc",
   "metadata": {},
   "source": [
    "Containers 항목을 보면 이 네트워크에 아무 컨테이너도 아직 연결 안됨."
   ]
  },
  {
   "cell_type": "markdown",
   "id": "6d93f353",
   "metadata": {},
   "source": [
    "### 네트워크에 컨테이너 연결\n",
    "- docker network connect 네트워크_이름 컨테이너_이름"
   ]
  },
  {
   "cell_type": "code",
   "execution_count": null,
   "id": "b81397cc",
   "metadata": {},
   "outputs": [],
   "source": [
    "# docker network connect test-net test-django\n",
    "\n",
    "{\n",
    "        \"Name\": \"test-net\",\n",
    "        \"Id\": \"8cc7a79860bf3d8fe44fb1cc0cace583b5809ba025767296ea33163cdda89c11\",\n",
    "        \"Created\": \"2022-09-20T16:27:03.506727462Z\",\n",
    "        \"Scope\": \"local\",\n",
    "        \"Driver\": \"bridge\",\n",
    "        \"EnableIPv6\": false,\n",
    "        \"IPAM\": {\n",
    "            \"Driver\": \"default\",\n",
    "            \"Options\": {},\n",
    "            \"Config\": [\n",
    "                {\n",
    "                    \"Subnet\": \"172.18.0.0/16\",\n",
    "                    \"Gateway\": \"172.18.0.1\"\n",
    "                }\n",
    "            ]\n",
    "        },\n",
    "        \"Internal\": false,\n",
    "        \"Attachable\": false,\n",
    "        \"Ingress\": false,\n",
    "        \"ConfigFrom\": {\n",
    "            \"Network\": \"\"\n",
    "        },\n",
    "        \"ConfigOnly\": false,\n",
    "        \"Containers\": {\n",
    "            \"8807bbaa980ac71bf281ab9bd5c1a92ee1c29e113699d8a44298dcd6e3f088fb\": {\n",
    "                \"Name\": \"test-django\",\n",
    "                \"EndpointID\": \"e5800912e9fca6e19ffffd2c3950736881809ef203103f3dc613c385985f8d48\",\n",
    "                \"MacAddress\": \"02:42:ac:12:00:02\",\n",
    "                \"IPv4Address\": \"172.18.0.2/16\",\n",
    "                \"IPv6Address\": \"\"\n",
    "            },\n",
    "         \n",
    "        },\n",
    "        \"Options\": {},\n",
    "        \"Labels\": {}\n",
    "    }"
   ]
  },
  {
   "cell_type": "markdown",
   "id": "2fc40db7",
   "metadata": {},
   "source": [
    "Containers 항목에 one 컨테이너가 추가된것을 볼 수 있음."
   ]
  },
  {
   "cell_type": "code",
   "execution_count": null,
   "id": "5f7b036f",
   "metadata": {},
   "outputs": [],
   "source": []
  },
  {
   "cell_type": "markdown",
   "id": "56ab476e",
   "metadata": {},
   "source": [
    "### 네트워크로부터 컨테이너 연결 해제\n",
    "- docker network disconnect 네트워크_이름 컨테이너_이름\n",
    "- 하나의 컨테이너는 여러 개의 네트워크에 동시에 연결 될 수 있음.\n",
    "- 최초에 test-django 컨테이너를 생성할때, bridge 네트워크를 붙였기 때문에, 현재 test-djagno는 test-net 이랑 bridge 네트워크에 동시에 붙어 있음."
   ]
  },
  {
   "cell_type": "code",
   "execution_count": 2,
   "id": "c045dd36",
   "metadata": {},
   "outputs": [],
   "source": [
    "# test-django bridge 네트워크로 부터 때어 내기\n",
    "# docker network diconnect bridge test-djagno"
   ]
  },
  {
   "cell_type": "code",
   "execution_count": null,
   "id": "494c1d2d",
   "metadata": {},
   "outputs": [],
   "source": []
  },
  {
   "cell_type": "markdown",
   "id": "cdbdd32c",
   "metadata": {},
   "source": [
    "### 컨테이너 간 네트워킹 \n",
    "- docker exec 컨테이너1 ping 컨테이너2\n",
    "- 두 개의 컨테이너가 네트워크를 통해 서로 소통이 가능한지 테스트"
   ]
  },
  {
   "cell_type": "code",
   "execution_count": null,
   "id": "5c5faf0f",
   "metadata": {},
   "outputs": [],
   "source": [
    "# docker exec test-django ping photoon"
   ]
  },
  {
   "cell_type": "code",
   "execution_count": null,
   "id": "bdbe2328",
   "metadata": {},
   "outputs": [],
   "source": []
  },
  {
   "cell_type": "markdown",
   "id": "71d4221d",
   "metadata": {},
   "source": [
    "### 네트워크 제거\n",
    "- docker network rm 네트워크\n",
    "- 네트워크 상에서 실행 중인 컨테이너가 있을 때는 제거가 되지가 않습니다.\n",
    "- 그럴 경우 해당 네트워크에 연결되어 실행중인 모든 컨테이너를 먼저 중지 시키고, 네트워크를 삭제 해야 됨."
   ]
  },
  {
   "cell_type": "code",
   "execution_count": null,
   "id": "6405f0c9",
   "metadata": {},
   "outputs": [],
   "source": [
    "# docker network rm test-net"
   ]
  },
  {
   "cell_type": "code",
   "execution_count": null,
   "id": "e60d043b",
   "metadata": {},
   "outputs": [],
   "source": []
  },
  {
   "cell_type": "markdown",
   "id": "e9dc2cfc",
   "metadata": {},
   "source": [
    "### 네트워크 청소\n",
    "- 하나의 호스트 컴퓨터에서 다수의 컨테이너를 도리다 보면 아무 컨테이너도 연결되어 있지 않은 네트워크가 생김.\n",
    "- 이럴때는 docker network prune를 이용해 불필요한 네트워클 한번에 모두 제거"
   ]
  },
  {
   "cell_type": "code",
   "execution_count": null,
   "id": "729b8b8b",
   "metadata": {},
   "outputs": [],
   "source": []
  }
 ],
 "metadata": {
  "kernelspec": {
   "display_name": "Python 3",
   "language": "python",
   "name": "python3"
  },
  "language_info": {
   "codemirror_mode": {
    "name": "ipython",
    "version": 3
   },
   "file_extension": ".py",
   "mimetype": "text/x-python",
   "name": "python",
   "nbconvert_exporter": "python",
   "pygments_lexer": "ipython3",
   "version": "3.8.10"
  }
 },
 "nbformat": 4,
 "nbformat_minor": 5
}
