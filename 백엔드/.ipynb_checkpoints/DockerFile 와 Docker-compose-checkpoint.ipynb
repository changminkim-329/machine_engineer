{
 "cells": [
  {
   "cell_type": "markdown",
   "id": "c710f16d",
   "metadata": {},
   "source": [
    "# DockerFile"
   ]
  },
  {
   "cell_type": "markdown",
   "id": "9728b8ec",
   "metadata": {},
   "source": [
    "### 참고\n",
    "- https://www.daleseo.com/dockerfile/"
   ]
  },
  {
   "cell_type": "markdown",
   "id": "df4c17ed",
   "metadata": {},
   "source": []
  },
  {
   "cell_type": "markdown",
   "id": "b5c6cbe9",
   "metadata": {},
   "source": [
    "### Dockerfile 이란?\n",
    "- Dockerfile은 Docker image를 생성하기 위한 스크립트(설정파일)\n",
    "- 여러가지 명령어를 토대로 Dockerfile을 작성한 후 빌드하면, Docker는 Dockerfile에 나열된 명령문을 차례대로 수행하며 DockerImage를 생성해준다."
   ]
  },
  {
   "cell_type": "markdown",
   "id": "c49cc3ae",
   "metadata": {},
   "source": [
    "|명령어|용도|\n",
    "|---|---|\n",
    "|FROM\t|base 이미지 설정|\n",
    "|WORKDIR\t|작업 디렉터리 설정|\n",
    "|RUN\t이미지 |빌드 시 커맨드 실행|\n",
    "|ENTRYPOINT\t|이미지 실행 시 항상 실행되야 하는 커맨드 설정|\n",
    "|CMD\t|이미지 실행 시 디폴트 커맨드 또는 파라미터 설정|\n",
    "|EXPOSE\t|컨테이너가 리스닝할 포트 및 프로토콜 설정|\n",
    "|COPY/ADD\t|이미지의 파일 시스템으로 파일 또는 디렉터리 복사|\n",
    "|ENV\t|환경 변수 설정|\n",
    "|ARG\t|빌드 시 넘어올 수 있는 인자 설정|"
   ]
  },
  {
   "cell_type": "code",
   "execution_count": null,
   "id": "85ffca11",
   "metadata": {},
   "outputs": [],
   "source": [
    "FROM ubuntu:latest # image 선택\n",
    "USER root # 이미지를 어떤 계정에서 실행하는 지정 //기본적으로 root로 해줌.\n",
    "\n",
    "# environment 환경변수 지정, 컨테이너 안에서 실행중일 때 사용가능\n",
    "# 이미지에서 사용할 환경 변수 값을 지정한다.\n",
    "ENV PYTHONDONTWRITEBYTECODE 1\n",
    "ENV PYTHONUNBUFFERED 1\n",
    "# 도커 컴포즈에서 파이썬 로그가 한 발 늦게 출력됨.\n",
    "# 파이썬에서 출력 버퍼가 기본으로 작동하면서 출력 로그를 붙잡고 있기 때문\n",
    "# 이 버퍼링을 없애려면 PYTHONUNBUFFERED 환경변수를 추가\n",
    "# (설정할 값은 0이등 1이든 상관없고 환경변수가 존재하기만 하면 됨.)\n",
    "\n",
    "# WORKDIR : working directory 작업경로 \n",
    "## 작업 디텍토리로 전환을 위해서 사용\n",
    "# WORKDIR : 작업 디렉토리를 지정한다. 해당 디렉토리가 없으면 새로 생성한다\n",
    "WORKDIR /backend\n",
    "# /backend 디렉토리로 이동\n",
    "# 작업 디렉토리를 지정하면 그 이후 명령어는 해당 디렉토리를 기준으로 동작.\n",
    "# cd 명령어와 동일.\n",
    "\n",
    "# COPY / ADD\n",
    "## COPY : 호스트 컴퓨터(로컬)에서 호스트의 파일 또는 폴더를 이미지에 가져오는 것\n",
    "## ADD : ADD 명령문은 좀 더 파워풀한 COPY 명령문이라고 생각할 수 있다.\n",
    "## ADD 명령문은 일반 파일 뿐만아니라 압축파일이나 네트워크 상의 파일도 사용 가능.\n",
    "COPY requirements.txt /backend/ \n",
    "ADD https://github.com/ufoscout/docker-compose-wait/releases/download/2.9.0/wait /wait\n",
    "# 호스트 컴퓨터(로컬)에서 requirements.txt를 \n",
    "# 복사해서 도커 컨테이너의 backend 폴더에 넣음.\n",
    "\n",
    "# RUN: 마치 쉘(shell)에서 커맨드를 실행하는 것 처럼 \n",
    "# 이미지 빌드 과정에서 필요한 커맨드를 실행하기 위해서 사용\n",
    "# 쉘(shell)을 통해 거의 못하는 작업이 없는 것 처럼 RUN 명령문으로 할 수 있는 작업은 \n",
    "# 무궁무진하지만 보통 이미지 안에 특정 소트트웨어를 설치하기 위해서 많이 사용됩니다.R\n",
    "RUN apt-get update && \n",
    "apt-get install -y python3-pip libffi-dev python3-dev && \n",
    "apt-get install -y default-libmysqlclient-dev \n",
    "\n",
    "# CMD는 docker run 실행 시, 추가적인 명령어에 따라 설정한 명령어를 \n",
    "# 수정하고자 할 때 사용\n",
    "CMD /wait && /wait-for-mysql.sh\n",
    "\n",
    "# EXPOSE : 포트 지정.\n",
    "# EXPOSE <포트> or EXPOSE <포트>/<프로토콜> \n",
    "## 프로토콜은 TCP와 UDP중 선택할 수 있음\n",
    "## 지정하지 않으면 TCP가 기본값\n",
    "## 내부 포트 설정\n",
    "EXPOSE 80\n",
    "# 하지만 외부 포트랑 연결을 해주는 것이 아니기 때문에, run에서 추가적으로 연결해주어야됨."
   ]
  },
  {
   "cell_type": "code",
   "execution_count": null,
   "id": "1978ca95",
   "metadata": {},
   "outputs": [],
   "source": []
  },
  {
   "cell_type": "markdown",
   "id": "9494282d",
   "metadata": {},
   "source": [
    "### Docker image 생성"
   ]
  },
  {
   "cell_type": "code",
   "execution_count": null,
   "id": "8e50d64b",
   "metadata": {},
   "outputs": [],
   "source": [
    "docker build -t 'docker_hub유저이름/이미지이름:태그'"
   ]
  },
  {
   "cell_type": "code",
   "execution_count": null,
   "id": "26a45349",
   "metadata": {},
   "outputs": [],
   "source": []
  },
  {
   "cell_type": "markdown",
   "id": "60d12efe",
   "metadata": {},
   "source": [
    "## .dockerignore 파일\n",
    "- Docker 이미지를 빌드할 때 제외 시키고 싶은 파일이 있다면, .dockerignore 파일에 추가해주면 된다.\n",
    "- 예를들어 .git 디렉토리와 마크다운(markdown)파일을 모두 제외 시키고 싶다면 다음과 같이 .dockerignore 파일을 작성하면 된다."
   ]
  },
  {
   "cell_type": "code",
   "execution_count": null,
   "id": "4b229727",
   "metadata": {},
   "outputs": [],
   "source": [
    "# .dockerignore\n",
    ".git\n",
    "#.md"
   ]
  },
  {
   "cell_type": "code",
   "execution_count": null,
   "id": "c43eb42c",
   "metadata": {},
   "outputs": [],
   "source": []
  },
  {
   "cell_type": "markdown",
   "id": "e33bbb12",
   "metadata": {},
   "source": [
    "# Docker-compose\n",
    "-  Docker compose란, 여러 개의 컨테이너로부터 이루어진 서비스를 구축, 실행하는 순서를 자동으로 하여, 관리를 간단히하는 기능"
   ]
  },
  {
   "cell_type": "markdown",
   "id": "e20ed103",
   "metadata": {},
   "source": [
    "### Docker Compose를 사용하기 위한 단계\n",
    "- 1 ) 각각의 컨테이너의 Dockerfile를 작성한다(기존에 있는 이미지를 사용하는 경우는 불필요).\n",
    "- 2 ) docker-compose.yml를 작성하고, 각각 독립된 컨테이너의 실행 정의를 실시한다(경우에 따라는 구축 정의도 포함).\n",
    "- 3 ) \"docker-compose up\" 커맨드를 실행하여 docker-compose.yml으로 정의한 컨테이너를 개시한다.\n"
   ]
  },
  {
   "cell_type": "code",
   "execution_count": null,
   "id": "14210392",
   "metadata": {},
   "outputs": [],
   "source": [
    "# 도커파일은 빌드할때 반영\n",
    "# 도커컴포즈는 업할때 반영\n",
    "version: \"3\"\n",
    "\n",
    "services: \n",
    "\n",
    "  backend:\n",
    "    build:\n",
    "    # context : 현재 폴더의 backend 폴더에 있는 도커파일을 쓰겠다.\n",
    "      context: ./backend\n",
    "      args:\n",
    "        DJANGO_ALLOWED_HOSTS: \"*\"\n",
    "        DJANGO_SECRET_KEY: \"*\"\n",
    "        DJANGO_CORS_ORIGIN_WHITELIST: \"*\"\n",
    "      \n",
    "    # command : 컨테이너가 띄워질 때 실행하는 명령어 / 서버실행\n",
    "    command: sh -c \"/wait & python manage.py makemigrations && python manage.py migrate && python manage.py runserver 0.0.0.0:8000\"\n",
    "    \n",
    "    # restart : 실패하면 재시작\n",
    "    restart: on-failure\n",
    "    ports:\n",
    "    # 왼쪽이 도커 바깥(외부에서 접근할 포트번호) / 오른쪽이 도커 내부(컨테이너 내부)\n",
    "      - 8000:8000\n",
    "    volumes:\n",
    "     # 왼쪽이 우리 컴퓨터, 오른쪽이 도커 컨테이너\n",
    "     # 리눅스 컨테이너의 백엔드 폴더에 우리 컴퓨터의 백엔드 폴더를 공유하겠다.\n",
    "     # 서로 바뀐 부분 적용됨\n",
    "      - ./backend:/backend\n",
    "    # 가상 네트워크 연결\n",
    "    networks:\n",
    "      - photoon\n",
    "    depends_on:\n",
    "      - photoon_mysql\n",
    "\n",
    "  photoon_mysql:\n",
    "    image: mysql\n",
    "    command: --lower_case_table_names=1\n",
    "    container_name: photoon_mysql # 컨테이너 이름 설정\n",
    "    ports:\n",
    "      - \"3306:3306\"\n",
    "    environment: # -e 옵션\n",
    "      - MYSQL_DATABASE=photoon\n",
    "      - MYSQL_USER = root\n",
    "      - MYSQL_ROOT_PASSWORD=1234  # MYSQL 패스워드 설정 옵션\n",
    "      - TZ=Asia/Seoul\n",
    "    # 가상 네트워크 연결\n",
    "    networks:\n",
    "      - photoon\n",
    "\n",
    "networks:\n",
    "  photoon:\n",
    "    driver: bridge\n"
   ]
  },
  {
   "cell_type": "code",
   "execution_count": null,
   "id": "f357cae2",
   "metadata": {},
   "outputs": [],
   "source": []
  }
 ],
 "metadata": {
  "kernelspec": {
   "display_name": "Python 3",
   "language": "python",
   "name": "python3"
  },
  "language_info": {
   "codemirror_mode": {
    "name": "ipython",
    "version": 3
   },
   "file_extension": ".py",
   "mimetype": "text/x-python",
   "name": "python",
   "nbconvert_exporter": "python",
   "pygments_lexer": "ipython3",
   "version": "3.8.10"
  }
 },
 "nbformat": 4,
 "nbformat_minor": 5
}
