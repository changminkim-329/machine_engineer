{
 "cells": [
  {
   "cell_type": "markdown",
   "id": "4c85ee22",
   "metadata": {},
   "source": [
    "# 미들웨어(Middle Ware)\n",
    "- 양 쪽을 연결하여 데이터를 주고받을 수 있도록 중간에서 매개 역할을 하는 소프트웨어, 네트워크를 통해서 연결된 여러 개의 컴퓨터에 있는 많은 프로세스들에게 어떤 서비스를 사용할 수 있도록 연결해주는 소프트웨어"
   ]
  },
  {
   "cell_type": "markdown",
   "id": "746a8b8e",
   "metadata": {},
   "source": [
    "### Gateway\n",
    "- 컴퓨터 네트워크에서 게이트웨이(Gateway)란 한 네트워크(segment)에서 다른 네트워크로 이동하기 위하여 거쳐야 하는 지점\n",
    "- 쉽게 다른 네트워크로 가기 위한 문"
   ]
  },
  {
   "cell_type": "markdown",
   "id": "86dde608",
   "metadata": {},
   "source": [
    "### CGI VS WAS\n",
    "\n",
    "#### CGI(Common Gateway Interface)\n",
    "- 공용 게이트웨어 인터페이스\n",
    "- 서버와 애플리케이션 간에 데이터를 주고 받는 방식.\n",
    "- 정적인 HTML 문서 서비스의 한계를 극복(즉 동적 HTML 문서 구현)\n",
    "- 방식: 클라이언트 요청 -> 웹 서버(아파치, nginx 등) -> (웹 서버가 직접실행)웹 어플리케이션(Java Servlet, mod php, FastCGI: 소켓 단위의 프로세스)\n",
    "\n",
    "![](https://velog.velcdn.com/images%2Fy_dragonrise%2Fpost%2F118c023e-9e5c-4d05-877f-4adcdd2f709b%2Fimage.png)\n",
    "- 웹서버와 요청을 받아 처리해줄 로직을 담고 있는 애플리케이션 프로그램 사이의 인터페이스\n",
    "- 웹서버가 특정 언어로 쓰인 구체적인 프로그램이 아니라 이 인터페이스에 의존하고 있기 때문에 어떤 언어든 이 인터페이스를 구현하기만 한다면(CGI 스펙을 따른다면) 웹서버와 소통 가능\n",
    "\n",
    "#### WAS(Web Application Server)\n",
    "- Web Server + CGI + Application Server\n",
    "\n",
    "- 방식: 클라이언트 요청 -> 웹 서버(아파치, nginx 등) -> 웹 어플리케이션 서버(톰캣, JBoss등) -> (웹 애플리케이션 서버가 실행)프로그램(JSP,ASP.net: 소켓 단위의 프로세스)\n",
    "\n",
    "### WSGI(Web Server Gateway Interface)\n",
    "<img src='https://wikidocs.net/images/page/75556/4-08_1.png' width='600px'></img>\n",
    "- 웹 서버와 파이썬으로 작성된 웹 애플리케이션 간의 표준 인터페이스.\n",
    "\n",
    "- 방식: 요청 -> 웹서버 -> WSGI Server(middleware) -> WSGI를 지원하는 웹어플리케이션(Django, flask: 소켓 단위의 프로세스)등\n",
    "\n",
    "- 대표적인 WSGI 서버: **mode_wsgi, uWSGI, Gunicorn** 등\n",
    "\n",
    "### Web 아키텍처\n",
    "#### Unix Domain Socket \n",
    "- 동일한 OS에서 실행중인 프로세스들간의 데이터 통신을 위해 사용하며, 흔히들 소켓이라고 하면 생각하는 Internet Domain Socket과 API가 유사하고, 네트워크 프로토콜 상에서 동작하는 것이 아니라 파일 시스템과 시스템 커널 상에서 동작하는 소켓이라고 이해할 수 있겠다.\n",
    "\n",
    "<img src='https://oi.readthedocs.io/en/latest/_images/web_server_architecture.png' ></img>\n",
    "1. : 웹 클라이언트가 웹 서버(Nginx)에 HTTP 프로토콜로 요청(request)\n",
    "2. : CSS, JavaScript, Images, PDF 문서 등 파일 시스템에 저장되어있는 각종 정적 파일(static file)들은 웹 서버가 처리\n",
    "3. : 정적 파일 외의 동적인 부분은 웹 서버가 처리할 수 없으므로 웹 어플리케이션 서버(uWSGI)에게 전송\n",
    "    - 이 사이를 매개해주는게 바로 앞에서 설명한 Unix Socket이다. 웹 서버와 웹 어플리케이션 서버 사이의 통신도 HTTP 프로토콜을 사용할 수 있지만, 같은 OS상에 존재하는 두 개체이므로 더 빠른 uwsgi 프로토콜을 사용\n",
    "4. : 웹 클라이언트가 요청한 HTTP 프로토콜의 메시지를, Python call로 변환해줘야 Python으로 기술된 어플리케이션이 동작 가능\n",
    "    - Python에서는 이 매핑 관계로 WSGI를 표준으로 사용\n",
    "    - uWSGI는 웹 서버에게서 받은 HTTP 요청을 Python call로 변환해서 Django 프레임워크와 협업\n",
    "\n",
    "5. : Django 프레임워크는 사용자가 Python으로 작성한 웹 어플리케이션 코드를 실행\n",
    "6. : ORM(Object-Relational Mapping)을 사용해서 DB에서 데이터를 읽거나 쓴다. "
   ]
  },
  {
   "cell_type": "code",
   "execution_count": null,
   "id": "e76f3f41",
   "metadata": {},
   "outputs": [],
   "source": []
  }
 ],
 "metadata": {
  "kernelspec": {
   "display_name": "Python 3",
   "language": "python",
   "name": "python3"
  },
  "language_info": {
   "codemirror_mode": {
    "name": "ipython",
    "version": 3
   },
   "file_extension": ".py",
   "mimetype": "text/x-python",
   "name": "python",
   "nbconvert_exporter": "python",
   "pygments_lexer": "ipython3",
   "version": "3.8.10"
  }
 },
 "nbformat": 4,
 "nbformat_minor": 5
}
