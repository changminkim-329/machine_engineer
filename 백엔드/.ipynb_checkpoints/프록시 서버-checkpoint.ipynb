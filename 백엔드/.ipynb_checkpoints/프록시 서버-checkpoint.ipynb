{
 "cells": [
  {
   "cell_type": "markdown",
   "id": "b4c3e1ad",
   "metadata": {},
   "source": [
    "# 프록시 서버"
   ]
  },
  {
   "cell_type": "markdown",
   "id": "bc3ab5dd",
   "metadata": {},
   "source": [
    "### 프록시 서버(Proxy Server) 개념\n",
    "- 프록시 서버는 클라이언트가 자신(Proxy Server)을 통해서 다른 네트워크 서비스에 간전적으로 접속할 수 있게 해주는 컴퓨터 시스템이나 응용 프로그램.\n",
    "- Proxy: 대리인, 즉 Server와 Client 사이에 중계기로서 대리로 통신을 수행.\n",
    "- Proxy Server 중 일부는 Proxy Server에 요청된 내용들을 캐시(Cache)를 이용해 저장."
   ]
  },
  {
   "cell_type": "code",
   "execution_count": null,
   "id": "ef27572b",
   "metadata": {},
   "outputs": [],
   "source": []
  },
  {
   "cell_type": "markdown",
   "id": "a7c7f9c5",
   "metadata": {},
   "source": [
    "### 프록시 서버 종류\n",
    "- 포워드 프록시(Foward Proxy)\n",
    "- 리버스 프록시(Reverse Proxy)"
   ]
  },
  {
   "cell_type": "code",
   "execution_count": null,
   "id": "66d06622",
   "metadata": {},
   "outputs": [],
   "source": []
  },
  {
   "cell_type": "markdown",
   "id": "1be51eac",
   "metadata": {},
   "source": [
    "### 포워드 프록시(Forward Proxy)\n",
    "![](https://img1.daumcdn.net/thumb/R1280x0/?scode=mtistory2&fname=https%3A%2F%2Fblog.kakaocdn.net%2Fdn%2FPbhvn%2FbtqBzj4CWaB%2FLVl1kFgdRPYq3DLbEeGn10%2Fimg.jpg)\n",
    "- Client가 Naver에 접근하려고 하면, Client가 직접 접근하는 게 아니라, **Forward Proxy Server**가 요청을 받고, Naver에 연결하여 그 결과를 Client에 전달\n",
    "- 또한 Proxy Server는 캐싱(Caching)기능이 있어, 자주 사용되는 데이터일 경우엔, 요청을 서버로 보내지 않고 캐시에서 가져올 수 있기 때문에 성능 향상에 좋음.\n",
    "\n",
    "- 요청 받는 Server는 Forward Server를 통해서 요청을 받기 때문에 Client의 정보를 알 수 없음."
   ]
  },
  {
   "cell_type": "code",
   "execution_count": null,
   "id": "24b2e764",
   "metadata": {},
   "outputs": [],
   "source": []
  },
  {
   "cell_type": "markdown",
   "id": "c3650419",
   "metadata": {},
   "source": [
    "### 리버스 프록시(Reverse Proxy)\n",
    "![](https://img1.daumcdn.net/thumb/R1280x0/?scode=mtistory2&fname=https%3A%2F%2Fblog.kakaocdn.net%2Fdn%2FsoZxz%2FbtqBvsBdrub%2F3lKN2HHrkzEnxZecoArlFK%2Fimg.jpg)\n",
    "- 클라이언트가 네이버 사이트에 데이터를 요청하면, Reverse Proxy(기업 서버)가 이 요청을 받아 내부망 Server에 요청을 보내고 내부망 Server에서 데이터를 받은 후 Client에 전달.\n",
    "- Cliennt 내부 Server에 대한 정보를 알 필요 없이 Reverse Proxy Server에만 요청하면 됨.\n",
    "- Reverse Proxy는 Client가 요청하는 End Point가 Revese Proxy Server의 도메인이기 때문에 실제 Server의 정보를 알 수 없음.\n",
    "\n",
    "![](https://encrypted-tbn0.gstatic.com/images?q=tbn:ANd9GcT46Ew7uoXsktp9lDtY1GAYeUWisWi4VYVxPA&usqp=CAU)\n",
    "- 보통 기업의 네트워크 환경은 외부망(Externel Network)과 내부망(Internal Network) 사이에 DMZ(Demilitarize Zone)라고 하는 망이 존재.\n",
    "- 일반적으로 DMZ에는 외부망으로 서비스를 제공하는 서버(Web Server)를 배치하고, 내부망에는 WAS를 배치.\n",
    "- 만약 WAS가 최전방에 배치되어 있다고 했을 때, 해커에게 WAS가 털릴 경우 WAS는 DBMS는 DBMS와 직접적으로 연결되어 있기 때문에 DBMS Server까지 모두 털릴 수 있음.\n",
    "- Reverse Proxy로 동작하는 Web Server만 WAS와 연결하도록 설정해서 Web Server가 해킹당해도 2차 방화벽을 다시 뚫어야 되기 때문에 보안에 강함."
   ]
  },
  {
   "cell_type": "code",
   "execution_count": null,
   "id": "3912294f",
   "metadata": {},
   "outputs": [],
   "source": []
  }
 ],
 "metadata": {
  "kernelspec": {
   "display_name": "Python 3",
   "language": "python",
   "name": "python3"
  },
  "language_info": {
   "codemirror_mode": {
    "name": "ipython",
    "version": 3
   },
   "file_extension": ".py",
   "mimetype": "text/x-python",
   "name": "python",
   "nbconvert_exporter": "python",
   "pygments_lexer": "ipython3",
   "version": "3.8.10"
  }
 },
 "nbformat": 4,
 "nbformat_minor": 5
}
