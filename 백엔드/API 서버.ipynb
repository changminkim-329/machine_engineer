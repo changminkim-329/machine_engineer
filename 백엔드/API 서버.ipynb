{
 "cells": [
  {
   "cell_type": "markdown",
   "id": "b382d927",
   "metadata": {},
   "source": [
    "# API 서버"
   ]
  },
  {
   "cell_type": "code",
   "execution_count": null,
   "id": "303ff402",
   "metadata": {},
   "outputs": [],
   "source": [
    "api -> 기능 , 보여주는 것이 아닌 행동의 결과 값만 필요. 모든 것이 일부 기능 만, 데이터 포맷 : json"
   ]
  },
  {
   "cell_type": "code",
   "execution_count": null,
   "id": "17462f5b",
   "metadata": {},
   "outputs": [],
   "source": [
    "api : 규칙\n",
    "json : 메시지의 포맷"
   ]
  },
  {
   "cell_type": "code",
   "execution_count": null,
   "id": "04f1820e",
   "metadata": {},
   "outputs": [],
   "source": [
    "올려줘 : POST\n",
    "불러와줘: GET\n",
    "수정해줘: PUT/PATCH\n",
    "지워줘: DELETE"
   ]
  },
  {
   "cell_type": "code",
   "execution_count": null,
   "id": "102fb20c",
   "metadata": {},
   "outputs": [],
   "source": [
    "대답\n",
    "200 : 좋아\n",
    "400 : 니가 잘못했어 안 보내줘\n",
    "500 : 내가 잘못해서 안됨"
   ]
  },
  {
   "cell_type": "markdown",
   "id": "35857b4b",
   "metadata": {},
   "source": [
    "![](//t1.daumcdn.net/thumb/R1280x0.fjpg/?fname=http://t1.daumcdn.net/brunch/service/user/5uIw/image/4SWiMwG_akFLP39nwQ9jgT5YsR4.jpg)\n",
    "\n",
    "- ex)\n",
    "- 영화 빅쇼트 보여줘 -> GET/MOVIE/BIGSHORT -> 200"
   ]
  },
  {
   "cell_type": "code",
   "execution_count": null,
   "id": "70a472ba",
   "metadata": {},
   "outputs": [],
   "source": []
  },
  {
   "cell_type": "markdown",
   "id": "88edf838",
   "metadata": {},
   "source": [
    "## JSON"
   ]
  },
  {
   "cell_type": "code",
   "execution_count": null,
   "id": "957ea4e2",
   "metadata": {},
   "outputs": [],
   "source": []
  },
  {
   "cell_type": "code",
   "execution_count": null,
   "id": "c044e7f6",
   "metadata": {},
   "outputs": [],
   "source": [
    "api \n",
    "데이터 포맷 : JSON"
   ]
  },
  {
   "cell_type": "code",
   "execution_count": null,
   "id": "365554bc",
   "metadata": {},
   "outputs": [],
   "source": []
  },
  {
   "cell_type": "markdown",
   "id": "937e8edd",
   "metadata": {},
   "source": [
    "### API 명세서 \n",
    "#### 개념\n",
    "- API의 이름, 파라미터, 반환 값 등의 구문, 인증, 데이터 전발 형식 등 API를 정확하게 호출하고 그 결과를 명확히 해석하는데, 필요한 정볻르을 일관된 형식으로 기술한 것.\n",
    "\n",
    "#### 웹 API 디자인\n",
    "- **GET**은 지정된 URI에서 리소스의 표현을 검색, 응답 메시지의 본문은 세부 정보를 포함.\n",
    "- **POST**는 지정된 URI에 새 리소스를 만듬, 요청 메시지의 본문은 새 리소스의 세부 정보를 제공.\n",
    "- **PUT**은 지정된 URI에 리소스를 만들거나 대체, 요청 메시지의 본문은 만들거나 업데이트할 리소스를 지정.\n",
    "- **PATCH**는 리소스의 부분 업데이트를 수행, 요청 본문은 리소스에 적용할 변경 내용을 지정.\n",
    "- **DELETE**는 지정된 URI의 리소스를 제거.\n",
    "\n",
    "#### API 명세서 예시\n",
    "리소스|POST|GET|PUT|DELETE\n",
    "---|---|---|----|---\n",
    "/customers|새 고객 만들기|모든 고객 검색|고객 대량 업데이트|모든 고객 삭제\n",
    "/customers/1|오류|고객 1에 대한 세부 정보 검색|고객 1이 있는 경우 고객 1의 세부 정보 업데이트|고객 1 제거\n",
    "/customers/1/orders/|고객 1에 대한 새 주문 만들기|고객 1에 대한 모든 주문 검색|고객 1의 주문 대량 업데이트|고객 1의 모든 주문 삭제\n",
    "\n",
    "#### 장점\n",
    "- API 명세서를 작성하면 API의 설계, 개발 및 문서화 과정에서 다음의 이점이 있으므로 서로 다른 클라우드 서비스 간의 API 연동에 있어서 그 필요성이 증대되고 있음.\n",
    "    - API를 호출하여 결과를 해석하기 위한 필수 정보만 간결하게 포함하고 있으므로, API의 사용방법"
   ]
  },
  {
   "cell_type": "code",
   "execution_count": null,
   "id": "088c534b",
   "metadata": {},
   "outputs": [],
   "source": [
    "ㅇ"
   ]
  }
 ],
 "metadata": {
  "kernelspec": {
   "display_name": "Python 3",
   "language": "python",
   "name": "python3"
  },
  "language_info": {
   "codemirror_mode": {
    "name": "ipython",
    "version": 3
   },
   "file_extension": ".py",
   "mimetype": "text/x-python",
   "name": "python",
   "nbconvert_exporter": "python",
   "pygments_lexer": "ipython3",
   "version": "3.8.10"
  }
 },
 "nbformat": 4,
 "nbformat_minor": 5
}
