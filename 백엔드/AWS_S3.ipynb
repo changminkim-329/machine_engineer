{
 "cells": [
  {
   "cell_type": "markdown",
   "id": "7150934d",
   "metadata": {},
   "source": [
    "### 참조\n",
    "- https://velog.io/@jinseoit/AWS-S3-bucket\n",
    "- https://intrepidgeeks.com/tutorial/aws-example-of-creating-and-uploading-s3-packets\n",
    "- https://dev.classmethod.jp/articles/for-beginner-s3-explanation/"
   ]
  },
  {
   "cell_type": "markdown",
   "id": "bac5282d",
   "metadata": {},
   "source": [
    "# AWS S3\n",
    "#### Simple Storage Service\n",
    "- 파일 서버의 역할을 하는 서비스\n",
    "- 일반적인 파일서버는 트래픽이 증가함에 따라서 장비를 증설하는 작업을 해야 하는데 S3는 이와 같은 것을 대행.\n",
    "- 트래픽에 따른 시스템적인 문제는 걱정할 필요가 없음.\n",
    "- 높은 내구도를 자랑하며 정보를 안전하게 저장 \n",
    "- 속도가 빠름(각 지역에 맞게 선택하며, 업/다운로드 시 지역시간 최소화르 위한 멀티 파트 업로드를 지원)\n",
    "- 저렴한 비용으로 사용이 가능\n",
    "a\n",
    "\n",
    "### S3 특징\n",
    "- 많은 사용자가 접속을 해도 이를 감당하기 위해서 시스템적인 작업을 하지 않아도 됨.\n",
    "- 저장할 수 있는 파일 수의 제한이 없음.\n",
    "- 최소 1바이트에서 최대 5TB의 데이터를 저장하고 서비스를 할 수 있음.\n",
    "- 파일에 인증을 붙여서 무단으로 엑세스 하지 못하도록 할 수 있음.\n",
    "- 버전관리 기능을 통해서 사용자에 의한 실수도 복원이 가능\n",
    "\n",
    "### AWS S3에서 사용되는 용어\n",
    "- 객체(object): \n",
    "    - AWS는 S3에 저장된 데이터 하나 하나를 객체라고 명명하는데, 하나 하나의 파일이라고 생각하면 됨.\n",
    "    - Object로 지칭하는 이유는 파일 뿐만 아니라 파일에 대한 여러가지 부가 정보들이 저장되기 때문에 이러한 것들을 모두 묶어서 Object라고 부름.\n",
    "- 버킷(bucket):\n",
    "    - 객체가 파일이라면, 버킷은 연관된 객체들을 그룹핑한 최상위 디렉토리하고 할 수 있음.\n",
    "    - 하나의 프로젝트가 하나의 버킷이라고 생각할 수 있음.\n",
    "    - 버킷 단위로 지역(region)을 지정 할 수 있고, 또 버킷에 포함된 모든 객체에 대해서 일괄적으로 인증과 접속 제한을 걸 수 있다.\n",
    "- Folder(폴더):\n",
    "    - 여러 파일을 보관하는 공간.\n",
    "    \n",
    "- 버전관리:\n",
    "    - S3에 저장된 객체들의 변호를 저장.\n",
    "    - 예를들어 A라는 객체를 사용자가 삭제하거나 변경해도 각각의 변화를 모두 기록하기 때문에 실수를 만회할 수 있음.\n",
    "    \n",
    "- RSS(Reduced Redundancy Storage):\n",
    "    - 일반 S3 객체에 비해서 데이터가 손실될 확률이 높은 형태의 저장방식.\n",
    "    - 대신에 가격이 저렴하기 때문에 복원이 가능한 데이터\n",
    "    - 이를테면 섬네일 이미지와 같은 것을 저장하는 데 적합.\n",
    "\n",
    "- Glacier(빙하):\n",
    "    - 빙하라는 뜻으로 매우 저렴한 가격으로 데이터를 저장할 수 있는 아마존의 스토리지 서비스\n",
    "    \n",
    "- IAM(Identity and Acess Management)\n",
    "    - 엑세스 관리\n",
    "    - AWS 리소스에 대한 엑세스를 안전하게 제어할 수 있는 웹 서비스.\n",
    "    - IAM를 사용하도록 인증(로그인) 및 권한 부여(권한 있음)된 대상을 제어 함."
   ]
  },
  {
   "cell_type": "code",
   "execution_count": null,
   "id": "23f1f822",
   "metadata": {},
   "outputs": [],
   "source": []
  },
  {
   "cell_type": "markdown",
   "id": "b1634282",
   "metadata": {},
   "source": [
    "## S3 버컷 생성 및 업로드 예제\n",
    "\n",
    "### 버킷 생성하기\n",
    "- 서비스 -> 스토리트 -> S3 순서로 이동하여 S3 서비스 페이지로 이동.\n",
    "- 버킷 만들기 버튼을 클릭\n",
    "![](https://s1.md5.ltd/image/4a9f447f51c085c802f15515c95c1741.png)\n",
    "\n",
    "### 버킷 설정\n",
    "#### 객체 소유권\n",
    "버킷 이름은 S3 내에서 유일해야 한다.\n",
    "![](https://s1.md5.ltd/image/920e36f0809d2b7124da5cc272fefefd.png)\n",
    "\n",
    "#### 이 버킷의 퍼블릭 엑세스 차단 설정.\n",
    "![](https://s1.md5.ltd/image/08a174de4b05c8cd9e49cb5b726d98d5.png)\n",
    "- 사용자의 S3를 외부에 공개하고 싶은 경우에는 모든 퍼블릭 액세스 차단 체크를 해제\n",
    "- 가장 첫 번째 부분을 체크해두면, 공개 설정으로 해둔 파일을 업로드 할 때, 업로드가 거절.\n",
    "- 두 번째의 경우, 첫 번째 체크를 해제 하더라도, 비공개로 인식해서 공개가 되지 않음.(즉 bucket를 비공개로 사용하겠다고 하면 체크를 하는것이 좋고, 업로드하는 파일중 어떠한것들은 공개 하고 싶다 라고 하면 체크를 해제하는것이 좋다.)\n",
    "- 퍼블릭 액세스를 차단을 해제한 경우에는 **IAM**의 **AccessKey**, **SecretKey** 를 이용해서 접근할 수 있다.)\n",
    "- 퍼블릭 액세스 차단을 해제한 경우 아래 경고 표시를 체크해야 한다.\n",
    "\n",
    "#### 버킷 버전관리, 태그, 기본 암호화\n",
    "![](https://s1.md5.ltd/image/aae3d91c344296a820e5e6bd8fa1e065.png)\n",
    "- 버전 관리의 경우, 같은 파일을 올리면서 계속 업데이트 과정을 거치더라도, 업데이트 이전의 내용을 복원할 수 있게 해준다.\n",
    "- 보안상 기본 암호화도 활성화를 하는게 좋지만 기본 생성 후 테스트를 위해 비활성화 해둔다."
   ]
  },
  {
   "cell_type": "code",
   "execution_count": null,
   "id": "0e4afe43",
   "metadata": {},
   "outputs": [],
   "source": []
  },
  {
   "cell_type": "markdown",
   "id": "a2726b37",
   "metadata": {},
   "source": [
    "### 퍼블릭 활성화 \n",
    "![](https://s1.md5.ltd/image/bc3c3d25ea0d2a85f904efdd1a2dc119.png)\n",
    "- 액세스 부분에 보면 객체를 퍼블릭으로 설정할 수 있음 메세지가 있는 것을 확인할 수 있다.\n",
    "- 이것은 아직 버킷이 퍼블릭으로 설정되지 않았다는 뜻이며 외부에서 접근할 수 없다는 것을 의미.\n",
    "- 따라서 외부에서 해당 버킷에 접근 가능하도록 하기 위해서는 **버킷 정책**을 수정\n",
    "\n",
    "### AWS Policy Generator\n",
    "- 권한 -> 버킷 정책 -> 편집 -> 버킷정책 -> 버킷 ARN 복사 후 정책 생성기 클릭\n",
    "![](https://velog.velcdn.com/images%2Fjinseoit%2Fpost%2F79ebf279-7efd-4246-95d9-207214dfb365%2F10.PNG)\n",
    "\n",
    "\n",
    "![](https://velog.velcdn.com/images%2Fjinseoit%2Fpost%2Fd5ee9fb6-99b9-4202-8ae9-7e19335c8481%2F9.PNG)\n",
    "- **Select Type of Policy** : S3 Bucket Policy 선택\n",
    "- Effect : 버킷에 대한 명령을 허용(Allow)할 것인지 거부(Deny)할 것인지에 대한 옵션\n",
    "- **Principal** : * 입력 (특정 사용자에 대해 권한을 제어하고 싶다면 입력한다: 전체: *, 특정 사용자: arn:aws:iam:AWS-account-ID:user/IAMID)\n",
    "- **Actions** : 버킷에 대해 어떤 작업을 허용(또는 거부)할 것인지 선택하는 옵션\n",
    "    - GetObject: 조회만 가능하도록 설정.\n",
    "    - PutObjectAcl: 사용자가 S3 버킷에 객체를 업로드할 수 있도록 엑세스 권한을 부여.\n",
    "- **ARN(Amazon Resource Name):접근 권한을 주고자하는 버킷을 입력."
   ]
  },
  {
   "cell_type": "code",
   "execution_count": null,
   "id": "de973424",
   "metadata": {},
   "outputs": [],
   "source": []
  },
  {
   "cell_type": "markdown",
   "id": "e6b75909",
   "metadata": {},
   "source": [
    "### IAM(Identity and Access Management)\n",
    "- AWS의 리소스에 대한 접근제어와 권한을 가지도록 계정 또는 그룹을 생성하는 서비스.\n",
    "- IAM 계정에 따라 EC2 서비스만 접근할 수 있도록 권한을 부여하거나 RDS, S3등의 서비스만 접근할 수 있도록 설정할 수 있음."
   ]
  },
  {
   "cell_type": "code",
   "execution_count": null,
   "id": "76792061",
   "metadata": {},
   "outputs": [],
   "source": []
  },
  {
   "cell_type": "markdown",
   "id": "8dbf7f93",
   "metadata": {},
   "source": [
    "### 파이썬으로 S3버킷에 파일 업로드"
   ]
  },
  {
   "cell_type": "code",
   "execution_count": 1,
   "id": "1fd01435",
   "metadata": {},
   "outputs": [],
   "source": [
    "import boto3\n",
    "import json"
   ]
  },
  {
   "cell_type": "code",
   "execution_count": 2,
   "id": "49b060d0",
   "metadata": {
    "scrolled": true
   },
   "outputs": [],
   "source": [
    "with open('./settings/setting.json', 'r') as f:\n",
    "    s3_data = json.load(f)"
   ]
  },
  {
   "cell_type": "code",
   "execution_count": 3,
   "id": "349577bb",
   "metadata": {},
   "outputs": [],
   "source": [
    "def s3_connection():\n",
    "    try:\n",
    "        s3 = boto3.client(\n",
    "            service_name = s3_data[\"SERVICE_NAME\"],\n",
    "            region_name = s3_data[\"REGION_NAME\"],\n",
    "            aws_access_key_id = s3_data[\"AWS_ACCESS_KEY_ID\"],\n",
    "            aws_secret_access_key = s3_data[\"AWS_SECRET_ACCESS_KEY\"]\n",
    "        )\n",
    "    except Exception as e:\n",
    "        print(e)\n",
    "        \n",
    "    else:\n",
    "        print(\"s3 bucket connected!\")\n",
    "        return s3"
   ]
  },
  {
   "cell_type": "code",
   "execution_count": 4,
   "id": "215ebd01",
   "metadata": {},
   "outputs": [
    {
     "name": "stdout",
     "output_type": "stream",
     "text": [
      "s3 bucket connected!\n"
     ]
    }
   ],
   "source": [
    "s3 = s3_connection()"
   ]
  },
  {
   "cell_type": "code",
   "execution_count": null,
   "id": "1e033a8e",
   "metadata": {},
   "outputs": [],
   "source": []
  },
  {
   "cell_type": "markdown",
   "id": "15ba5927",
   "metadata": {},
   "source": [
    "### S3 업로드"
   ]
  },
  {
   "cell_type": "code",
   "execution_count": 5,
   "id": "c5c9349b",
   "metadata": {
    "scrolled": true
   },
   "outputs": [
    {
     "name": "stdout",
     "output_type": "stream",
     "text": [
      "success!!\n"
     ]
    }
   ],
   "source": [
    "try:\n",
    "    s3.upload_file(\"./test_files/test1.jpg\",\"test-chang-tutorial-bucket\",\"test1.jpg\")\n",
    "    print('success!!')\n",
    "except Exception as e:\n",
    "    print(e)"
   ]
  },
  {
   "cell_type": "code",
   "execution_count": null,
   "id": "24fa9689",
   "metadata": {},
   "outputs": [],
   "source": []
  },
  {
   "cell_type": "markdown",
   "id": "d7bd58ef",
   "metadata": {},
   "source": [
    "### byte 보내기"
   ]
  },
  {
   "cell_type": "code",
   "execution_count": 6,
   "id": "2fffdf0b",
   "metadata": {},
   "outputs": [
    {
     "ename": "SyntaxError",
     "evalue": "invalid syntax (<ipython-input-6-d09e1e356b96>, line 1)",
     "output_type": "error",
     "traceback": [
      "\u001b[0;36m  Input \u001b[0;32mIn [6]\u001b[0;36m\u001b[0m\n\u001b[0;31m    https://photoon-bucket.s3.ap-northeast-2.amazonaws.com/face2.jpg\u001b[0m\n\u001b[0m          ^\u001b[0m\n\u001b[0;31mSyntaxError\u001b[0m\u001b[0;31m:\u001b[0m invalid syntax\n"
     ]
    }
   ],
   "source": [
    "https://photoon-bucket.s3.ap-northeast-2.amazonaws.com/face2.jpg"
   ]
  },
  {
   "cell_type": "code",
   "execution_count": 7,
   "id": "da4bd380",
   "metadata": {},
   "outputs": [],
   "source": [
    "AWS_STORAGE_BUCKET_NAME = 'photoon-bucket'\n",
    "AWS_REGION = 'ap-northeast'"
   ]
  },
  {
   "cell_type": "code",
   "execution_count": 8,
   "id": "49659458",
   "metadata": {},
   "outputs": [],
   "source": [
    "email = 'changminkim1234@naver.com'\n",
    "origin_created_at = '2019-10-20_12:32:1'"
   ]
  },
  {
   "cell_type": "code",
   "execution_count": 9,
   "id": "748b87d7",
   "metadata": {},
   "outputs": [],
   "source": [
    "s3_url = f'result/{email}/{origin_created_at}.jpg'"
   ]
  },
  {
   "cell_type": "code",
   "execution_count": 10,
   "id": "d0944063",
   "metadata": {},
   "outputs": [
    {
     "data": {
      "text/plain": [
       "'result/changminkim1234@naver.com/2019-10-20_12:32:1.jpg'"
      ]
     },
     "execution_count": 10,
     "metadata": {},
     "output_type": "execute_result"
    }
   ],
   "source": [
    "s3_url"
   ]
  },
  {
   "cell_type": "code",
   "execution_count": 11,
   "id": "2df718ac",
   "metadata": {},
   "outputs": [],
   "source": [
    "result_url = f'https://{AWS_STORAGE_BUCKET_NAME}.s3.{AWS_REGION}.amazonaws.com/{s3_url}'"
   ]
  },
  {
   "cell_type": "code",
   "execution_count": 12,
   "id": "24df1915",
   "metadata": {},
   "outputs": [
    {
     "data": {
      "text/plain": [
       "'https://photoon-bucket.s3.ap-northeast.amazonaws.com/result/changminkim1234@naver.com/2019-10-20_12:32:1.jpg'"
      ]
     },
     "execution_count": 12,
     "metadata": {},
     "output_type": "execute_result"
    }
   ],
   "source": [
    "result_url"
   ]
  },
  {
   "cell_type": "code",
   "execution_count": 13,
   "id": "8d96cb5c",
   "metadata": {},
   "outputs": [
    {
     "ename": "IndentationError",
     "evalue": "unexpected indent (<ipython-input-13-b7da41cbedd9>, line 2)",
     "output_type": "error",
     "traceback": [
      "\u001b[0;36m  Input \u001b[0;32mIn [13]\u001b[0;36m\u001b[0m\n\u001b[0;31m    s3_connection.put_object(Body=img_byte, Bucket=AWS_STORAGE_BUCKET_NAME,\u001b[0m\n\u001b[0m    ^\u001b[0m\n\u001b[0;31mIndentationError\u001b[0m\u001b[0;31m:\u001b[0m unexpected indent\n"
     ]
    }
   ],
   "source": [
    "s3_url = f'result/{email}/{origin_created_at}.jpg'\n",
    "    s3_connection.put_object(Body=img_byte, Bucket=AWS_STORAGE_BUCKET_NAME, \n",
    "              Key = s3_url)\n",
    "    result_url = f'https://{AWS_STORAGE_BUCKET_NAME}.s3.{AWS_REGION}.amazonaws.com/{s3_url}'"
   ]
  },
  {
   "cell_type": "code",
   "execution_count": 14,
   "id": "c52289d4",
   "metadata": {},
   "outputs": [],
   "source": [
    "with open('./test_files/test.jpg','rb') as f:\n",
    "    byte_image = f.read()"
   ]
  },
  {
   "cell_type": "code",
   "execution_count": 17,
   "id": "f6b97acb",
   "metadata": {},
   "outputs": [
    {
     "data": {
      "text/plain": [
       "'result/changminkim1234@naver.com/2019-10-20_12:32:1.jpg'"
      ]
     },
     "execution_count": 17,
     "metadata": {},
     "output_type": "execute_result"
    }
   ],
   "source": [
    "s3_url"
   ]
  },
  {
   "cell_type": "code",
   "execution_count": 35,
   "id": "6f4d0fab",
   "metadata": {},
   "outputs": [],
   "source": [
    "# byte_image : 바이트 이미지 :"
   ]
  },
  {
   "cell_type": "code",
   "execution_count": 18,
   "id": "963b8205",
   "metadata": {},
   "outputs": [
    {
     "data": {
      "text/plain": [
       "{'ResponseMetadata': {'RequestId': 'ZFPE1NEV2ZM957V1',\n",
       "  'HostId': 'BVCqOZCexhC5KqYQur2SH0r5NiEhpMoH4El/CZQx+SKqAivap3Q038CDOTFTcDl0JWk1GShQQLg=',\n",
       "  'HTTPStatusCode': 200,\n",
       "  'HTTPHeaders': {'x-amz-id-2': 'BVCqOZCexhC5KqYQur2SH0r5NiEhpMoH4El/CZQx+SKqAivap3Q038CDOTFTcDl0JWk1GShQQLg=',\n",
       "   'x-amz-request-id': 'ZFPE1NEV2ZM957V1',\n",
       "   'date': 'Sun, 25 Sep 2022 14:25:30 GMT',\n",
       "   'etag': '\"8b8c5614f61516d9deb72f9704ff6609\"',\n",
       "   'server': 'AmazonS3',\n",
       "   'content-length': '0'},\n",
       "  'RetryAttempts': 0},\n",
       " 'ETag': '\"8b8c5614f61516d9deb72f9704ff6609\"'}"
      ]
     },
     "execution_count": 18,
     "metadata": {},
     "output_type": "execute_result"
    }
   ],
   "source": [
    "s3.put_object(Body=byte_image, Bucket=AWS_STORAGE_BUCKET_NAME, \n",
    "              Key = s3_url)"
   ]
  },
  {
   "cell_type": "code",
   "execution_count": null,
   "id": "0c7016fd",
   "metadata": {},
   "outputs": [],
   "source": [
    "https://photoon-bucket.s3.ap-northeast-2.amazonaws.com/face2.jpg"
   ]
  },
  {
   "cell_type": "code",
   "execution_count": null,
   "id": "d63d4cbe",
   "metadata": {},
   "outputs": [],
   "source": []
  },
  {
   "cell_type": "markdown",
   "id": "564e3f5b",
   "metadata": {},
   "source": [
    "### S3 다운로드"
   ]
  },
  {
   "cell_type": "code",
   "execution_count": 6,
   "id": "893e01d9",
   "metadata": {},
   "outputs": [
    {
     "name": "stdout",
     "output_type": "stream",
     "text": [
      "success!!\n"
     ]
    }
   ],
   "source": [
    "try:\n",
    "    s3.download_file(\"test-chang-tutorial-bucket\",'test.jpg',\"./test_files/test5.jpg\")\n",
    "    print('success!!')\n",
    "except Exception as e:\n",
    "    print(e)"
   ]
  },
  {
   "cell_type": "code",
   "execution_count": 29,
   "id": "cc43cfdf",
   "metadata": {},
   "outputs": [],
   "source": [
    "from PIL import Image"
   ]
  },
  {
   "cell_type": "code",
   "execution_count": 44,
   "id": "039dfdf5",
   "metadata": {},
   "outputs": [],
   "source": [
    "import io\n",
    "import numpy as np\n",
    "import matplotlib.pyplot as plt"
   ]
  },
  {
   "cell_type": "code",
   "execution_count": 40,
   "id": "779f97e2",
   "metadata": {},
   "outputs": [
    {
     "name": "stdout",
     "output_type": "stream",
     "text": [
      "success!!\n"
     ]
    },
    {
     "data": {
      "text/plain": [
       "0"
      ]
     },
     "execution_count": 40,
     "metadata": {},
     "output_type": "execute_result"
    }
   ],
   "source": [
    "import io\n",
    "buf = io.BytesIO()\n",
    "try:\n",
    "    obj = s3.download_fileobj(Bucket=\"test-chang-tutorial-bucket\",Key='test.jpg', Fileobj=buf)\n",
    "    \n",
    "    print('success!!')\n",
    "except Exception as e:\n",
    "    print(e)\n",
    "buf.seek(0)\n",
    "#image_byte = buf.read()\n",
    "image_pil = Image.open(buf)\n",
    "origin_image = np.array(image_pil)"
   ]
  },
  {
   "cell_type": "code",
   "execution_count": null,
   "id": "f3e77788",
   "metadata": {},
   "outputs": [],
   "source": []
  },
  {
   "cell_type": "code",
   "execution_count": null,
   "id": "6a455a3b",
   "metadata": {},
   "outputs": [],
   "source": []
  },
  {
   "cell_type": "code",
   "execution_count": 12,
   "id": "b33df138",
   "metadata": {},
   "outputs": [],
   "source": [
    "AWS_STORAGE_BUCKET_NAME = 'photoon-bucket'"
   ]
  },
  {
   "cell_type": "code",
   "execution_count": null,
   "id": "d5d3fe8d",
   "metadata": {},
   "outputs": [],
   "source": []
  },
  {
   "cell_type": "code",
   "execution_count": 13,
   "id": "c2d9c4ce",
   "metadata": {},
   "outputs": [
    {
     "name": "stdout",
     "output_type": "stream",
     "text": [
      "success!!\n"
     ]
    }
   ],
   "source": [
    "try:\n",
    "    s3.upload_file(\"/jupyterNotebook/images/test_images/face.jpeg\", AWS_STORAGE_BUCKET_NAME, \"face2.jpg\")\n",
    "    print('success!!')\n",
    "    #return Response({\"status\" : \"성공\"}, status=status.HTTP_201_CREATED)\n",
    "except Exception as e:\n",
    "    print(e)\n",
    "    #return Response(status=status.HTTP_400_BAD_REQUEST)"
   ]
  },
  {
   "cell_type": "code",
   "execution_count": null,
   "id": "e04764d2",
   "metadata": {},
   "outputs": [],
   "source": []
  },
  {
   "cell_type": "code",
   "execution_count": null,
   "id": "7a7b5c88",
   "metadata": {},
   "outputs": [],
   "source": [
    "import React, { useState } from “react”;\n",
    "import style from “./MainPage.module.css”;\n",
    "import axios from “axios”;\n",
    "// import { Link } from “react-router-dom”;\n",
    "function Test() {\n",
    "    const [text, setText] = useState([]);\n",
    "  return (\n",
    "    <>\n",
    "      <div className={`${style.box1}`}>\n",
    "        <img className={`${style.logo1}`} src=“images/logo.png” alt=“logo” />\n",
    "      </div>\n",
    "      <h1>REST API 연습</h1>\n",
    "      <div>\n",
    "        <button text = “보내기”\n",
    "          onClick={() => {\n",
    "            const data = {\n",
    "                “user_id” : “1”,\n",
    "                “origin_id” : “1”,\n",
    "                “style” : “1”,\n",
    "                “background” : “1”\n",
    "              };\n",
    "            axios\n",
    "              .post(“http://127.0.0.1:8000/api/v1/style_transfer”, data\n",
    "              )\n",
    "              .then(function (response) {\n",
    "                console.log(response);\n",
    "              })\n",
    "              .catch(function (error) {\n",
    "                console.log(error);\n",
    "              });\n",
    "          }}\n",
    "        >\n",
    "          POST\n",
    "        </button>\n",
    "        <div>\n",
    "        <div>\n",
    "        <button text = “받기”\n",
    "          onClick={() => {\n",
    "            axios\n",
    "              .get(“http://127.0.0.1:8000/api/v1/speech-bubbles”)\n",
    "              .then((response) => {\n",
    "                setText([...response.data]);\n",
    "                console.log(response.data);\n",
    "              })\n",
    "              .catch(function (error) {\n",
    "                console.log(error);\n",
    "              });\n",
    "          }}\n",
    "        >\n",
    "          GET\n",
    "        </button>\n",
    "        </div>\n",
    "        </div>\n",
    "      </div>\n",
    "      {text.map((e) => (\n",
    "        <div>\n",
    "          {” “}\n",
    "          <div>\n",
    "            <span>\n",
    "            {e.email}, {e.password}\n",
    "            </span>\n",
    "            {/* <button\n",
    "              className=“btn-delete”\n",
    "              onClick={() => {\n",
    "                axios.delete(`http://127.0.0.1:8000/join/${e.id}`);\n",
    "                setText(text.filter((text) => text.id !== e.id));\n",
    "              }}\n",
    "            >\n",
    "              DELETE\n",
    "            </button>{” “} */}\n",
    "          </div>\n",
    "        </div>\n",
    "      ))}\n",
    "    </>\n",
    "  );\n",
    "}\n",
    "export default Test;"
   ]
  }
 ],
 "metadata": {
  "kernelspec": {
   "display_name": "Python 3",
   "language": "python",
   "name": "python3"
  },
  "language_info": {
   "codemirror_mode": {
    "name": "ipython",
    "version": 3
   },
   "file_extension": ".py",
   "mimetype": "text/x-python",
   "name": "python",
   "nbconvert_exporter": "python",
   "pygments_lexer": "ipython3",
   "version": "3.8.10"
  }
 },
 "nbformat": 4,
 "nbformat_minor": 5
}
