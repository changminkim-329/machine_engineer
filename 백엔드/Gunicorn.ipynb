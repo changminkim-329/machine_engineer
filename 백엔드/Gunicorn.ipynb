{
 "cells": [
  {
   "cell_type": "markdown",
   "id": "fa64072a",
   "metadata": {},
   "source": [
    "# Gunicorn"
   ]
  },
  {
   "cell_type": "markdown",
   "id": "49111261",
   "metadata": {},
   "source": [
    "### WSGI(Web Server Gateway Interface)\n",
    "<img src='https://wikidocs.net/images/page/75556/4-08_1.png' width='600px'></img>\n",
    "- 웹 서버와 파이썬으로 작성된 웹 애플리케이션 간의 표준 인터페이스.\n",
    "\n",
    "- 방식: 요청 -> 웹서버 -> WSGI Server(middleware) -> WSGI를 지원하는 웹어플리케이션(Django, flask: 소켓 단위의 프로세스)등\n",
    "\n",
    "- 대표적인 WSGI 서버: **mode_wsgi, uWSGI, Gunicorn** 등"
   ]
  },
  {
   "cell_type": "markdown",
   "id": "37924040",
   "metadata": {},
   "source": [
    "### Gunicorn 사용 이유\n",
    "- Django의 내장 서버(runserver)는 실서비스에 부적합.\n",
    "- Django에는 개발용으로 runserver 라는 내장 서버를 탐재.\n",
    "- 실제 서비스를 하기전에 개발을 하면서 이용하게 되는 서버.\n",
    "- 하지만 실제 서비스를 하기에 성능상의 한계, 보안등 다양한 문제점이 존재해 **WAS + WSGI 조합(Nginx  Gunicorn)**을 사용."
   ]
  },
  {
   "cell_type": "markdown",
   "id": "cfedcaa4",
   "metadata": {},
   "source": [
    "### Gunicorn 설치"
   ]
  },
  {
   "cell_type": "code",
   "execution_count": null,
   "id": "153e38b4",
   "metadata": {},
   "outputs": [],
   "source": [
    "# pip install gunicorn"
   ]
  },
  {
   "cell_type": "markdown",
   "id": "b6fa5c69",
   "metadata": {},
   "source": [
    "### Gunicorn 실행"
   ]
  },
  {
   "cell_type": "code",
   "execution_count": null,
   "id": "e4da0100",
   "metadata": {},
   "outputs": [],
   "source": [
    "gunicorn --bind 0.0.0.0:8000 앱 이름.wsgi:application\n",
    "# 포트와 앱이름을 설정하여 위의 명령으로 구니콘을 실행.\n",
    "# 위의 명령어를 통해 Gunicorn을 실행 할 수 있고 Listening at: http://0.0.0.0:8000 메시지가 출력되면 \n",
    "# 정상적으로 서버를 구동을 시켰다고 볼 수 있음.\n",
    "# python manage.py runserver 0.0.0.0:8000의 명령어를 대체."
   ]
  },
  {
   "cell_type": "code",
   "execution_count": null,
   "id": "61c73885",
   "metadata": {},
   "outputs": [],
   "source": [
    "# gunicorn --bind 0.0.0.0:8008 mysite.wsgi:application"
   ]
  },
  {
   "cell_type": "code",
   "execution_count": null,
   "id": "0b54809d",
   "metadata": {},
   "outputs": [],
   "source": []
  },
  {
   "cell_type": "markdown",
   "id": "ffb16f90",
   "metadata": {},
   "source": [
    "## Nginx 연동"
   ]
  },
  {
   "cell_type": "markdown",
   "id": "42740f2b",
   "metadata": {},
   "source": [
    "### Nginx Proxy pass 설정\n",
    "- Nginx의 Proxy Pass 기능을 이용하여 포트 리다이렉트를 작동.\n",
    "- 포트 리다이렉트를 통해 포트번호를 붙이지 않고도 장고 서버에 접속할 수 있게 변경."
   ]
  },
  {
   "cell_type": "code",
   "execution_count": null,
   "id": "123cc7bc",
   "metadata": {},
   "outputs": [],
   "source": [
    "# vi /etc/nginx/nginx.conf\n",
    "http{\n",
    "    include /etc/nginx/conf.d/*.conf;\n",
    "}"
   ]
  },
  {
   "cell_type": "markdown",
   "id": "34930539",
   "metadata": {},
   "source": [
    "#### default.conf 생성"
   ]
  },
  {
   "cell_type": "code",
   "execution_count": null,
   "id": "2909e2b1",
   "metadata": {},
   "outputs": [],
   "source": [
    "# vi /etc/nginx/conf.d/default.conf \n",
    "server {\n",
    "    listen 80;\n",
    "    server_name changminkimserver29672.iptime.org;\n",
    "\n",
    "    location / {\n",
    "        proxy_pass http://test-django:8008;\n",
    "    }\n",
    "}"
   ]
  },
  {
   "cell_type": "markdown",
   "id": "d4793d7c",
   "metadata": {},
   "source": [
    "위의 설정 파일은 클라이언트가 changminkimser29672.iptime.org:80 주소로 요청하면 \n",
    "test-django(호스트에서 실행되고 있는 docker 컨테이너):8008으로 요청을 대신 보내준다는 의미.\n",
    "\n",
    "따라서 위의 설정을 통해 포트번호(8008)를 입력하지 않아도 자동으로 8008번 포트로 리다이렉션 시켜줌."
   ]
  },
  {
   "cell_type": "markdown",
   "id": "5e6e45d0",
   "metadata": {},
   "source": [
    "#### Nginx 재시작"
   ]
  },
  {
   "cell_type": "code",
   "execution_count": null,
   "id": "8f1ee4d7",
   "metadata": {},
   "outputs": [],
   "source": [
    "# service nginx restart"
   ]
  },
  {
   "cell_type": "code",
   "execution_count": null,
   "id": "50543e90",
   "metadata": {},
   "outputs": [],
   "source": []
  },
  {
   "cell_type": "markdown",
   "id": "2a88e8c6",
   "metadata": {},
   "source": [
    "### Gunicorn 서비스 등록\n",
    "- systemd에 서비스 파일을 등록하여 서버가 재시작할때 Gunicorn도 실행되도록 설정."
   ]
  }
 ],
 "metadata": {
  "kernelspec": {
   "display_name": "Python 3",
   "language": "python",
   "name": "python3"
  },
  "language_info": {
   "codemirror_mode": {
    "name": "ipython",
    "version": 3
   },
   "file_extension": ".py",
   "mimetype": "text/x-python",
   "name": "python",
   "nbconvert_exporter": "python",
   "pygments_lexer": "ipython3",
   "version": "3.8.10"
  }
 },
 "nbformat": 4,
 "nbformat_minor": 5
}
