{
 "cells": [
  {
   "cell_type": "markdown",
   "id": "7a38b3ca",
   "metadata": {},
   "source": [
    "### 도커 로그인: hub 아이디"
   ]
  },
  {
   "cell_type": "code",
   "execution_count": null,
   "id": "14e7f1b3",
   "metadata": {},
   "outputs": [],
   "source": [
    "docker login"
   ]
  },
  {
   "cell_type": "markdown",
   "id": "bd1dfb5d",
   "metadata": {},
   "source": [
    "### 도커허브에 이미징 올리기"
   ]
  },
  {
   "cell_type": "code",
   "execution_count": null,
   "id": "915207c3",
   "metadata": {},
   "outputs": [],
   "source": [
    "docker push '올릴 이미지:태그'"
   ]
  },
  {
   "cell_type": "code",
   "execution_count": null,
   "id": "bca5937d",
   "metadata": {},
   "outputs": [],
   "source": []
  }
 ],
 "metadata": {
  "kernelspec": {
   "display_name": "Python 3",
   "language": "python",
   "name": "python3"
  },
  "language_info": {
   "codemirror_mode": {
    "name": "ipython",
    "version": 3
   },
   "file_extension": ".py",
   "mimetype": "text/x-python",
   "name": "python",
   "nbconvert_exporter": "python",
   "pygments_lexer": "ipython3",
   "version": "3.8.10"
  }
 },
 "nbformat": 4,
 "nbformat_minor": 5
}
