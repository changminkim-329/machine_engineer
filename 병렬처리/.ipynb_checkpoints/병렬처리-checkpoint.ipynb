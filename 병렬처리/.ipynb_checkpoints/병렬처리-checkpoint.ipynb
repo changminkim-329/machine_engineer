{
 "cells": [
  {
   "cell_type": "markdown",
   "id": "49f7b221",
   "metadata": {},
   "source": [
    "# 병렬처리(Parallel Processing)"
   ]
  },
  {
   "cell_type": "markdown",
   "id": "02dea7e4",
   "metadata": {},
   "source": [
    "### 병렬처리(Parallel Processing)란?\n",
    "- 병렬처리란 여러 개의 작업을 동시에 실행하여서 효율을 높이는 것을 의미.\n",
    "- 현재 멀티 코어로 인해 성능이 압도적으로 좋아짐\n",
    "- 병렬처리는 여러 쓰레드를 활용하는 방법이 있고, 여러 개의 프로세스를 활용하는 방법이 있으며 각각 **멀티 쓰레드**, **멀티 프로세싱**이라고 부름."
   ]
  },
  {
   "cell_type": "markdown",
   "id": "d88ed3f3",
   "metadata": {},
   "source": [
    "### 순차 처리\n",
    "<img src='https://blog.kakaocdn.net/dn/bVN7gA/btqJXV08e5i/K2KZfpdDbcRFVfQAaRuk80/img.png' width='800px'></img>\n",
    "- 문제가 일련(순차)의 개별 명령어로 나누어져 있다. \n",
    "- 명령어들은 순차적으로 **단일 프로세서**에서 실행.\n",
    "- 어떤 한순간에는 한 명령어만 실행."
   ]
  },
  {
   "cell_type": "markdown",
   "id": "6373184b",
   "metadata": {},
   "source": [
    "### 병렬 처리\n",
    "<img src='https://blog.kakaocdn.net/dn/Sn4mY/btqJUNX12Nq/cNWqU0USwu6dYqcqqc4kIK/img.png' width='800px'></img>\n",
    "- 문제는 동시에 해결할 수 있는 개별적인 부분 문제로 나누어 짐.\n",
    "- 각 부분 문제는 일련(순차)의 명령어들로 세분화.\n",
    "- 각 부분 문제의 명령어는 서로 다른 프로세서(코어-쓰레드)에서 동시에 실행된다.\n",
    "- 동시에 작업하는 과정 **항상 제어와 조정의 알고리즘**이 필요."
   ]
  },
  {
   "cell_type": "code",
   "execution_count": null,
   "id": "809a27d0",
   "metadata": {},
   "outputs": [],
   "source": []
  },
  {
   "cell_type": "markdown",
   "id": "5947be95",
   "metadata": {},
   "source": [
    "### 프로세스 VS 스레드\n",
    "#### 프로세서\n",
    "- 중앙처리장치(CPU)\n",
    "- 명령어를 해석하는 장치\n",
    "- 제어장치, 연산장치, 레지스터 그리고 데이터 버스로 구성.\n",
    "- 코어: 한번에 n개의 쓰레드를 처리하는 단위 \n",
    "- 쓰레드 : CPU 내부에서 작업을 수행하는 가장 작은 단위. ex) 12 쓰레드 : 한번에 12 명령어를 처리\n",
    "\n",
    "#### 프로그램\n",
    "- 어떤 작업을 위해 실행할 수 있는 파일.\n",
    "- 파일이 저장 장치에 저장되어 있지만 메모리에는 올라가 있지 않은 정적인 상태.\n",
    "- 정적 데이터와 명령어로 구성되어 있는 코드 덩어리.\n",
    "\n",
    "#### 프로세스\n",
    "- 실행된 프로그램을 의미.\n",
    "- 메모리(RAM)에 올라와 실행되고 있는 프로그램의 인스턴스(독립적인 개체)\n",
    "- 운영체제로부터 시스템 자원을 할당받는 작업의 단위.\n",
    "\n",
    "- **특징**\n",
    "    <img src=https://gmlwjd9405.github.io/images/os-process-and-thread/process.png width='500px'></img>\n",
    "    - 프로세스는 각각 독립된 메모리 영역(Code, Data, Stack, Heap)을 할당 받음.\n",
    "    - 기본적으로 프로세스당 최소 **1개의 스레드(메인 스레드)**를 가지고 있다.\n",
    "    - 각 프로세스는 별도의 주소 공간에서 실행되며, 한 프로세스는 다른 프로세스의 변수나 자료구조에 접근할 수 없다.\n",
    "    - 한 프로세스가 다른 프로세스의 자원에 접근하려면 **프로세스 간의 통신**을 사용해야 함.\n",
    "        - Ex. 파이프, 파일, 소켓 등을 이용한 통신 방법 이용\n",
    "\n",
    "#### 스레드\n",
    "- 프로세스 내에서 실행되는 여러 흐름의 단위.\n",
    "- 프로세스가 할당받은 자원을 이용하는 실행의 단위\n",
    "- **특징**\n",
    "    <img src=https://gmlwjd9405.github.io/images/os-process-and-thread/thread.png width='500px'></img>\n",
    "    - 스레드는 프로세스 내에서 각각 Stack만 따로 할당받고 자원들[Code, Data, Heap 영역]은 공유\n",
    "    - 각각의 스레드는 별도의 레지스터(cpu가 요청을 처리하는 데 필요한 데이터를 일시적으로 저장하는 기억장치))와 스택을 갖고 있지만, 힙 메모리는 서로 읽고 쓸 수 있음."
   ]
  },
  {
   "cell_type": "code",
   "execution_count": null,
   "id": "b8051efe",
   "metadata": {},
   "outputs": [],
   "source": []
  },
  {
   "cell_type": "markdown",
   "id": "eecaf6ab",
   "metadata": {},
   "source": [
    "### Ex) 자바 프로세스안 스레드 "
   ]
  },
  {
   "cell_type": "code",
   "execution_count": null,
   "id": "a763966d",
   "metadata": {},
   "outputs": [],
   "source": [
    "public class ThreadTest extends Thread\n",
    "{\n",
    "    public void run()\n",
    "    {\n",
    "        // 인터럽트 됬을때 예외처리\n",
    "        try\n",
    "        {\n",
    "            for(int i = 0 ; i < 10 ; i++)\n",
    "            {\n",
    "                // 스레드 0.5초동안 대기\n",
    "                Thread.sleep(500);\n",
    "                System.out.println(\"Thread : \" + i);\n",
    "            }\n",
    "        }catch(InterruptedException e)\n",
    "        {\n",
    "            System.out.println(e);\n",
    "        }\n",
    "    }\n",
    "} "
   ]
  },
  {
   "cell_type": "code",
   "execution_count": null,
   "id": "7efc1561",
   "metadata": {},
   "outputs": [],
   "source": [
    "// Thead1.class\n",
    "public class Thread1 \n",
    "{\n",
    "    public static void main(String args[])\n",
    "    {\n",
    "        ThreadTest t1 = new ThreadTest();\n",
    "        ThreadTest t2 = new ThreadTest();\n",
    "        \n",
    "        //1. 동시에 똑같은 숫자가 나오고(start)\n",
    "        t1.start();\n",
    "        t2.start();\n",
    "    }\n",
    "}"
   ]
  },
  {
   "cell_type": "markdown",
   "id": "2346e19a",
   "metadata": {},
   "source": [
    "### 멀티 프로세스 VS 멀티 스레드\n",
    "- 대부분 하나의 프로그램내에서는 멀티 스레드 개념을 사용하지만, workers 같은 분할 작업은 멀티 프로세스 개면을 사용.\n",
    "\n",
    "#### 컨텍스트 스위칭(Context Switching)\n",
    "- 프로세스간, 쓰레드 간의 전환\n",
    "- CPU에서 여러 프로세스를 돌아가면서 작업을 처리하는데 이 과정을 Context Switching이라 함.\n",
    "- 구체적으로, 동작 중인 프로세스가 대기를 하면서 해당 프로세스의 상태(Context)를 보관하고, 대기하고 있던 다음 순서의 프로세스가 동작하면서 이전에 보관했던 프로세스의 상태를 복구하는 작업.\n",
    "    \n",
    "#### 멀티 프로세스(Multi Process)\n",
    "- 하나의 응용프로그램을 여러 개의 프로세스로 구성하여 각 프로세스가 하나의 작업(태스크)을 처리하도록 하는 것.\n",
    "- 장점\n",
    "    - Contex에서의 오버헤드\n",
    "    - 프로세스가 죽어도 다른 프로세스에 영향을 안 준다.\n",
    "- 단점\n",
    "    - 프로세스 간 통신(IPC)를 사용.\n",
    "        - 프로세스는 독립된 메모리이기 때문에 변수를 공유 못함.\n",
    "        - 복잡한 통신 개념이기 때문에 속도가 느림.\n",
    "\n",
    "    \n",
    "#### 멀티 스레드(Multi Thread)\n",
    "- 하나의 응용프로그램을 여러 개의 스레드로 구성하고 각 스레드로 하여금 하나의 작업을 처리하도록 하는 것.\n",
    "- 장점\n",
    "    - 시스템 자원 소모 감소\n",
    "        - 프로세스를 생성하여 자원을 할당하는 시스템 콜이 줄어들어 자원을 효율적으로 관리\n",
    "        - 스레드 사이의 작업량이 작아 Context Switching이 빠름.\n",
    "    - 간단한 통신 방법으로 속도 빠름\n",
    "        - 스레드는 프로세스 내의 Stack 영역을 제외한 모든 메모리를 공유하기 때문에 통신 부담 적음.\n",
    "        \n",
    "- 단점\n",
    "    - 복잡함.(디버깅 어려움, 주의 깊게 설계)\n",
    "    - 다른 프로세스의 스레드를 제어 못함.\n",
    "    - 하나의 스레드에 문제가 발생하면 전체 프로세스가 영향을 받음."
   ]
  },
  {
   "cell_type": "markdown",
   "id": "7eafb3db",
   "metadata": {},
   "source": [
    "### 멀티 쓰레드 동작 방식\n",
    "<img src='https://velog.velcdn.com/images%2Fjjunyjjuny%2Fpost%2Fe16f969a-5fb7-4c50-b73f-00ec1c217aec%2Fimage.png' width='500px'></img>\n",
    "1. 프로그램이 메모리에 적재되어 Process가 생성.\n",
    "2. Process는 필요한 독립된 작업의 수 만큼 스레드를 생성.\n",
    "3. cpu 코어 하나당 스레드를 동시에 실행할 수 있는데(하이퍼스레딩 적용X), 스레드의 수가 더 많아지면 컨텍스트 스위치를 해야함.\n",
    "4. (컨텍스트 스위치 할시) 아주 짧은 시간 스레드 a를 실행시키고 멈춘 후, 스레드 b를 실행시키고 멈춤, c를 실행시키고 멈춤... 다시 a를 ... 이런식으로 필요한 스레드르 조금씩 빠르게 번갈아가며 실행, 정지 함.\n",
    "5. 멀티 프로세스도 동일한 원리로 작동하지만 프로세스와 달리 스레드는 '스택 영역을 제외하고 자원을 공유'하고 있기 때문에 컨텍스트 스위치시 발생하는 비용이 적음."
   ]
  },
  {
   "cell_type": "markdown",
   "id": "363fbc5a",
   "metadata": {},
   "source": [
    "### 힙(Heap)\n",
    "- [참조](/notebooks/머신러닝엔지니어/자료구조/Heap.ipynb)"
   ]
  },
  {
   "cell_type": "markdown",
   "id": "dfe9b4b5",
   "metadata": {},
   "source": [
    "### 비동기(처리)\n",
    "- [참조](https://changminkimserver29672.iptime.org:62911/notebooks/머신러닝엔지니어/병렬처리/비동기%20처리.ipynb#논블럭(Non-Block))"
   ]
  },
  {
   "cell_type": "code",
   "execution_count": null,
   "id": "1c2fdafb",
   "metadata": {},
   "outputs": [],
   "source": []
  }
 ],
 "metadata": {
  "kernelspec": {
   "display_name": "Python 3",
   "language": "python",
   "name": "python3"
  },
  "language_info": {
   "codemirror_mode": {
    "name": "ipython",
    "version": 3
   },
   "file_extension": ".py",
   "mimetype": "text/x-python",
   "name": "python",
   "nbconvert_exporter": "python",
   "pygments_lexer": "ipython3",
   "version": "3.8.10"
  }
 },
 "nbformat": 4,
 "nbformat_minor": 5
}
