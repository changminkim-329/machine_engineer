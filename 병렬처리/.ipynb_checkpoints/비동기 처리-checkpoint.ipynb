{
 "cells": [
  {
   "cell_type": "markdown",
   "id": "5492b01f",
   "metadata": {},
   "source": [
    "# 비동기 처리 \n"
   ]
  },
  {
   "cell_type": "markdown",
   "id": "d29fbc7f",
   "metadata": {},
   "source": [
    "### 멀티 쓰레드는 비동기 이다? 아니요\n",
    "\n",
    "#### 처리는 다음과 같이 나뉨\n",
    "1. 싱글 쓰레드 - 동기\n",
    "2. 싱글 쓰레드 - 비동기\n",
    "3. 멀티 쓰레드 - 동기\n",
    "4. 멀티 쓰레드 - 비동기"
   ]
  },
  {
   "cell_type": "markdown",
   "id": "b6f3d8ad",
   "metadata": {},
   "source": [
    "### 쓰레드는 공간, 동기는 순서를 의미"
   ]
  },
  {
   "cell_type": "markdown",
   "id": "93219754",
   "metadata": {},
   "source": [
    "#### 싱글 쓰레드 - 동기\n",
    "Thread_1 : |<--A->|<--B->|<--C->|\n",
    "- 공간이 하나인 데다가, 순서대로 작업을 하려면, 먼저 시작한 A가 끝나고 B가 시작, 끝나고 C가 시작"
   ]
  },
  {
   "cell_type": "markdown",
   "id": "eb4af50a",
   "metadata": {},
   "source": [
    "#### 싱글 쓰레드 - 비동기\n",
    "Thread_1:|<-A|<-B-|<-C-|-A|-C|-B-|B->|C->|-A->|\n",
    "- 공간은 하나인데 순서가 필요 없으니, A가 시작하고 끝나지도 않았는데 B가 시작하고, 작업 중에 C도 시작.\n",
    "- 이런 방식은 거의 사용 안함."
   ]
  },
  {
   "cell_type": "markdown",
   "id": "3241163f",
   "metadata": {},
   "source": [
    "#### 멀티 쓰레드 - 동기\n",
    "Thread_1 : |<--A->|<br>\n",
    "Thread_2 : ------->|<--B->|<br>\n",
    "Thread_3 : ---------------->|<--C->|<br>\n",
    "- 1번 쓰레드에서 A의 작업이 끝나야 2번 쓰레드에서 B 작업이, B작업이 끝나면 3번 쓰레드에서 C 작업이 시작하고 끝남.\n",
    "- 공간은 많으나 순서대로 하기에, 굳이 사용 성이 좋진 않을 것 같음."
   ]
  },
  {
   "cell_type": "markdown",
   "id": "45e9dd30",
   "metadata": {},
   "source": [
    "#### 멀티 쓰레드 - 비동기\n",
    "Thread_1 : |<--A->|<br>\n",
    "Thread_2 : --->|<--B->|<br>\n",
    "Thread_3 : -------->|<--C->|<br>\n",
    "- 여러 공간에서 필요에 따라 작업이 이뤄짐."
   ]
  },
  {
   "cell_type": "markdown",
   "id": "3d5c1fc8",
   "metadata": {},
   "source": [
    "### 동기 vs 비동기\n",
    "#### 동기(Synchronous)\n",
    "<img src='https://img1.daumcdn.net/thumb/R1280x0/?scode=mtistory2&fname=https%3A%2F%2Fblog.kakaocdn.net%2Fdn%2FnOVuy%2FbtrHp2hC3jM%2F9MvGJCHp5S86LKF92D9h7K%2Fimg.png' width='300px'></src>\n",
    "- 호출하는 함수A가 호출되는 함수 B의 작업 완료 후 리턴을 기다리거나(블록/동기), 바로 리턴 받더라도 미완료 상태이라면 작업 완료 여부를 스스로 계속 확인하며 신경쓰는 것(논블록/동기).\n",
    "\n",
    "#### 비동기(Asynchronous)\n",
    "<img src='https://img1.daumcdn.net/thumb/R1280x0/?scode=mtistory2&fname=https%3A%2F%2Fblog.kakaocdn.net%2Fdn%2FE19A8%2FbtrHoeYanYM%2FTLqOaCn1vLULPP9mls9wC0%2Fimg.png' width='300px'></img>\n",
    "- 함수 A가 함수 B를 호출할 때 콜백함수를 함께 전달해서, 함수 B의 작업이 완료되면 함께 보낸 콜백 함수를 실행.\n",
    "- 함수 A는 함수 B를 호출한 후로 함수 B의 작업 완료 여부에는 신경쓰지 않음.\n"
   ]
  },
  {
   "cell_type": "markdown",
   "id": "a19f1d61",
   "metadata": {},
   "source": [
    "### 블록(Block) 과 논블록(Non-Block)\n",
    "- 블럭/넌블럭은 함수호출\n",
    "- 하나의 쓰레드를 하나의 함수 호출로 간주 할 수 있다. \n",
    "-  처리되어야 하는 (하나의) 작업이, 전체적인 작업 '흐름'을 막느냐 안막느냐에 대한 관점\n",
    "- **제어권이 누구한테 있느냐**가 관심사\n",
    "\n",
    "#### 제어권\n",
    "- 제어권이란 제어권은 자신(함수)의 코드를 실행할 권리 같은 것이다.\n",
    "- 제어권을 가진 함수는 자신의 코드를 끝까지 실행한 후, 자신을 호출한 함수에게 돌려준다.\n",
    "\n",
    "#### 블록(Block)\n",
    "<img src='https://img1.daumcdn.net/thumb/R1280x0/?scode=mtistory2&fname=https%3A%2F%2Fblog.kakaocdn.net%2Fdn%2Fb3mzcH%2FbtrpJRZSuus%2FWJLlZj8R2IVqLkO3lwTa60%2Fimg.png' width='300px'></img>\n",
    "- 자신의 작업을 진행하다가 다른 주체의 작업이 시작되면 다른 작업이 끝날 때까지 기다렸다가 자신의 작업을 시작하는 것\n",
    "- **A 함수가 B 함수를 호출하면, 제어권을 A가 호출한 B 함수에 넘겨준다.**\n",
    "- 제어권을 넘겨받은 B는 열심히 함수를 실행한다. A는 B에게 제어권을 넘겨주었기 때문에 함수 실행을 잠시 멈춘다.\n",
    "- B함수는 실행이 끝나면 자신을 호출한 A에게 제어권을 돌려준다.\n",
    " \n",
    "#### 논블럭(Non-Block)\n",
    "<img src= 'https://img1.daumcdn.net/thumb/R1280x0/?scode=mtistory2&fname=https%3A%2F%2Fblog.kakaocdn.net%2Fdn%2FdobMy7%2FbtrpLub29Xo%2FTQtuJa2moQ2EHfXmkStTe0%2Fimg.png' width='300px'></img>\n",
    "- 다른 주체의 작업에 관련없이 자신의 작업을 하는 것\n",
    "- A함수가 B함수를 호출해도 제어권은 그래돌 자신이 가지고 있는다.\n",
    "- A함수는 계속 제어권을 가지고 있기 때문에 B함수를 호출한 이후에도 자신의 코드를 계속 실행\n",
    "<!-- - 호출된 함수가 자신이 할 일을 마치지 않았더라도 바로 제어권을 바로 return하여 호출한 함수가 다른 일을 진행\n",
    "- 어플리케이션 실행시 운영체제 대기큐에 들어가지 않고, 실행 여부와 관계없이 바로 응답을 보낸다.(바로 응답하기 힘든 경우, 에러를 반환하는데 정상데이터를 받을 때까지 계속해서 요청을 다시 보냄.) -->\n",
    "\n",
    "### 동기&비동기 과 블록&논블록\n",
    "\n",
    "#### Sync Blocking\n",
    "<img src='https://img1.daumcdn.net/thumb/R1280x0/?scode=mtistory2&fname=https%3A%2F%2Fblog.kakaocdn.net%2Fdn%2FbU0Rsu%2FbtrpQSvVrCf%2FA534xjILSbgp2dkFzCHqtK%2Fimg.png' width='300px'></img>\n",
    "- 함수 A는 함수 B의 리턴값을 필요로 한다 (동기).\n",
    "- 그래서 제어권을 함수 B에게 넘겨주고, 함수 B가 실행을 완료하여 리턴값과 제어권을 돌려줄때까지 기다린다 (블로킹).\n",
    "- Ex) C나 JAVA의 코드 실행후 커맨드에서 입력 받기\n",
    "    <img src='https://img1.daumcdn.net/thumb/R1280x0/?scode=mtistory2&fname=https%3A%2F%2Fblog.kakaocdn.net%2Fdn%2Fn3P4U%2FbtrpJXZAf30%2FQ4n8oEhQUqCHWsyNWkLJ41%2Fimg.png' width='400px'></img>\n",
    "\n",
    "#### Sync-Nonblocking\n",
    "<img src='https://img1.daumcdn.net/thumb/R1280x0/?scode=mtistory2&fname=https%3A%2F%2Fblog.kakaocdn.net%2Fdn%2FuRHfw%2FbtrpJQs6CvA%2FywikZdAksl1u3IoDnBo520%2Fimg.png' width='300px'></img>\n",
    "- 함수 A는 함수 B에게 제어권을 주지 않고, 자신의 코드를 계속 실행한다(논 블로킹)\n",
    "- 그런데 함수 A는 함수B의 리턴 값이 필요하기 때문에, 중간중간 B함수에게 함수 실행을 완료했는지 물어본다.(동기)\n",
    "- ex) 게임에서 데이터 로드율을 표시\n",
    "    <img src='https://img1.daumcdn.net/thumb/R1280x0/?scode=mtistory2&fname=https%3A%2F%2Fblog.kakaocdn.net%2Fdn%2FAjUiQ%2FbtrpLsSRMtO%2FAwXTaRwEPkXh1cHdqkNKw0%2Fimg.png' width='400px'></img>\n",
    "    \n",
    "#### Async Nonblocking\n",
    "<img src='https://img1.daumcdn.net/thumb/R1280x0/?scode=mtistory2&fname=https%3A%2F%2Fblog.kakaocdn.net%2Fdn%2FcC7Fr3%2FbtrpPFw6BuD%2FQQU6PkIc7VbXumKkOe2YD1%2Fimg.png' width='300px'></img>\n",
    "- 함수 A는 함수 B에게 제어권을 주지 않고, 자신의 코드를 계속 실행한다(논 블로킹)\n",
    "- 그리고 B 함수를 호출할 때 콜백함수를 함께 준다. B 함수는 아무때나 자신의 작업이 끝나면 A 함수가 준 콜백 함수를 실행한다 (비동기).\n",
    "- ex) AJAX 요청(프론트엔드 단에서 서버로 api요청을 보내고, 응답을 기다리지않고 바로 자신의 다음 일을 계속 실행.)\n",
    "    <img src='https://img1.daumcdn.net/thumb/R1280x0/?scode=mtistory2&fname=https%3A%2F%2Fblog.kakaocdn.net%2Fdn%2FceEax9%2FbtrpP26GoB3%2FH38NkmjGKMPLaxxAU8fz20%2Fimg.png' width='300px'></img>\n",
    "\n",
    "#### Async Blocking\n",
    "<img src='https://img1.daumcdn.net/thumb/R1280x0/?scode=mtistory2&fname=https%3A%2F%2Fblog.kakaocdn.net%2Fdn%2FbU0Rsu%2FbtrpQSvVrCf%2FA534xjILSbgp2dkFzCHqtK%2Fimg.png' width='300px'></img>\n",
    "- A 함수는 B 함수의 리턴값에 신경쓰지 않고, 콜백함수를 보낸다 (비동기).\n",
    "- 그런데, B 함수의 작업에 관심없음에도 불구하고, A 함수는 B 함수에게 제어권을 넘긴다 (블로킹).\n",
    "- 따라서, A 함수는 자신과 관련 없는 B 함수의 작업이 끝날 때까지 기다려야 한다.\n",
    "- 거의 안 씀"
   ]
  },
  {
   "cell_type": "code",
   "execution_count": null,
   "id": "54cbd6de",
   "metadata": {},
   "outputs": [],
   "source": []
  }
 ],
 "metadata": {
  "kernelspec": {
   "display_name": "Python 3",
   "language": "python",
   "name": "python3"
  },
  "language_info": {
   "codemirror_mode": {
    "name": "ipython",
    "version": 3
   },
   "file_extension": ".py",
   "mimetype": "text/x-python",
   "name": "python",
   "nbconvert_exporter": "python",
   "pygments_lexer": "ipython3",
   "version": "3.8.10"
  }
 },
 "nbformat": 4,
 "nbformat_minor": 5
}
