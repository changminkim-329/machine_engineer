{
 "cells": [
  {
   "cell_type": "markdown",
   "id": "9af2e98a",
   "metadata": {},
   "source": [
    "# 파이썬 비동기 처리\n",
    "- 자바스크립트와 같이 애초에 비동기 방식으로 동작하도록 설계된 언어에서는 익숙한 개념이지만, 파이썬과 같이 기본적으로 동기 방식으로 동작하는 언어에서는 생소\n",
    "- 파이썬 3.4에서 asyncio가 표준 라이브러리로 추가되고, 파이썬 3.5에서 async/await 키워드가 문법으로 채택이 되면서, 파이썬도 이제 언어 자체적으로 비동기 프로그래밍이 가능"
   ]
  },
  {
   "cell_type": "markdown",
   "id": "bebe8f05",
   "metadata": {},
   "source": [
    "### 참고 \n",
    "- https://docs.python.org/ko/3/library/asyncio-task.html#"
   ]
  },
  {
   "cell_type": "markdown",
   "id": "78a6582f",
   "metadata": {},
   "source": [
    "### 동시성 프로그래밍 패러 다임\n",
    "- 전통적으로 동시 프로그래밍(concurrent programming)은 여러 개의 쓰레드(thread)를 활용하여 이루어짐.\n",
    "- 하지만 멀티 쓰레드를 이용해 thread safe한 프로그램을 작성하는 것은 생각보다 쉽지 않고 성능이 좋다고 보장 못함(ex) 파이썬 GIL)\n",
    "- 이러한 이유로 최근에는 하나의 쓰레드로 동시 처리를 하는 비동기 프로그래밍(asynchronous programming)이 더욱 주목받고 있습니다."
   ]
  },
  {
   "cell_type": "markdown",
   "id": "bf524d5c",
   "metadata": {},
   "source": [
    "## coroutine(co-routine: 상호 작업, 코루틴)\n",
    "![](https://user-images.githubusercontent.com/18481078/63651600-6a5a5100-c791-11e9-87d1-3f81dc9b415d.png)\n",
    "- **Routine** : 하나의 태스크, 함수\n",
    "- Routine에는 우리가 흔히 알고있는 **main routine**과 **sub routine**이 존재\n",
    "\n",
    "#### 서브루틴\n",
    "![](https://blog.kakaocdn.net/dn/lkgCV/btrmiFA4BU7/jvgjih5QxvBsmyf8Gkuni0/img.png)\n",
    "- 함수 안에 함수가 있을 경우 바로 안쪽의 함수를 서브 루틴이라고 함.\n",
    "\n",
    "#### 코루틴 동작 과정\n",
    "![](https://blog.kakaocdn.net/dn/bRQpdc/btrmnnGahs4/j9J6QkZ0ojGrTs2Lyrdmxk/img.png)\n",
    "- 하나의 스레드 안에서 이루어짐\n",
    "- Coroutine1 과 Coroutine2가 각각 서로 다른 함수(rountine)이며, 함께 수행되고 있다.\n",
    "- 이들이 하나의 스레드를 점유하고 있을 때 한 Routine이 다른 Routine에게 **Thread 점유 권한을 양보함**으로써 함께 수행되는 것."
   ]
  },
  {
   "cell_type": "code",
   "execution_count": null,
   "id": "cff78c36",
   "metadata": {},
   "outputs": [],
   "source": []
  },
  {
   "cell_type": "markdown",
   "id": "dea021f6",
   "metadata": {},
   "source": [
    "### asyncio\n",
    "- asyncio(Asynchronous I/O)는 비동기 프로그래밍을 위한 모듈이며 CPU 작업과 I/O를 병렬로 처리"
   ]
  },
  {
   "cell_type": "code",
   "execution_count": 52,
   "id": "58ef84c0",
   "metadata": {},
   "outputs": [],
   "source": [
    "import asyncio"
   ]
  },
  {
   "cell_type": "markdown",
   "id": "142bbaca",
   "metadata": {},
   "source": [
    "def 키워드로 선언하는 모든 함수는 파이썬에서 기본적으로 동기 방식으로 동작"
   ]
  },
  {
   "cell_type": "code",
   "execution_count": 50,
   "id": "db6c9228",
   "metadata": {},
   "outputs": [],
   "source": [
    "def do_sync(n):\n",
    "    for i in range(10):\n",
    "        print(n,end='')"
   ]
  },
  {
   "cell_type": "code",
   "execution_count": 51,
   "id": "ec823843",
   "metadata": {},
   "outputs": [
    {
     "name": "stdout",
     "output_type": "stream",
     "text": [
      "55555555557777777777"
     ]
    }
   ],
   "source": [
    "do_sync(5)\n",
    "do_sync(7)"
   ]
  },
  {
   "cell_type": "markdown",
   "id": "ff318550",
   "metadata": {},
   "source": [
    "#### 네이티브 코루틴 만들기"
   ]
  },
  {
   "cell_type": "markdown",
   "id": "780e52c5",
   "metadata": {},
   "source": [
    "기존 def 키워드 앞에 async 키워드까지 붙이면 이 함수는 비동기 처리되며"
   ]
  },
  {
   "cell_type": "markdown",
   "id": "40cf6f81",
   "metadata": {},
   "source": [
    "이러한 비동기 함수는 **코루틴(coroutine)**이라는 객체를 반환"
   ]
  },
  {
   "cell_type": "code",
   "execution_count": 55,
   "id": "f9a7a6f6",
   "metadata": {},
   "outputs": [],
   "source": [
    "# 네이티브 코루틴\n",
    "async def do_asyncs(n):\n",
    "    for i in range(10):\n",
    "        print(n,end='')"
   ]
  },
  {
   "cell_type": "code",
   "execution_count": 57,
   "id": "fff533c3",
   "metadata": {},
   "outputs": [
    {
     "name": "stdout",
     "output_type": "stream",
     "text": [
      "5555555555"
     ]
    }
   ],
   "source": [
    "await do_asyncs(5)\n",
    "# loop = asyncio.get_event_loop()      # 이벤트 루프를 얻음\n",
    "# loop.run_until_complete(do_asyncs()) # do_asyncs가 끝날 때까지 기다리고\n",
    "                                       # 해당 네이티브 코루틴이 끝날 때까지 기다림\n",
    "# loop.close()                         # 이벤트 루프를 닫음"
   ]
  },
  {
   "cell_type": "markdown",
   "id": "cc1a896e",
   "metadata": {},
   "source": [
    "따라서 비동기 함수는 일반적으로 async로 선언된 다른 비동기 함수 내에서 await 키워드를 붙여서 호출해야 합니다."
   ]
  },
  {
   "cell_type": "markdown",
   "id": "e2846347",
   "metadata": {},
   "source": [
    "#### await로 네이티브 코루틴 실행\n",
    "- await 뒤에 코루틴 객체, 퓨처 객체, 태스크 객체를 지정하면 해당 객체가 끝날 때까지 기다린 뒤 결과를 반환\n",
    "- await는 네이티브 코루틴 안에서만 사용가능."
   ]
  },
  {
   "cell_type": "code",
   "execution_count": 64,
   "id": "f2b7742d",
   "metadata": {},
   "outputs": [],
   "source": [
    "async def main_async():\n",
    "    await do_asyncs(5)"
   ]
  },
  {
   "cell_type": "code",
   "execution_count": 65,
   "id": "91ae9273",
   "metadata": {},
   "outputs": [
    {
     "name": "stdout",
     "output_type": "stream",
     "text": [
      "5555555555"
     ]
    }
   ],
   "source": [
    "await main_async()"
   ]
  },
  {
   "cell_type": "code",
   "execution_count": 1,
   "id": "8ffcbaed",
   "metadata": {},
   "outputs": [],
   "source": [
    "import asyncio"
   ]
  },
  {
   "cell_type": "code",
   "execution_count": 2,
   "id": "2bebf8e4",
   "metadata": {},
   "outputs": [],
   "source": [
    "async def main():\n",
    "    print('hello')\n",
    "    await asyncio.sleep(1)\n",
    "    print('world')\n",
    "    "
   ]
  },
  {
   "cell_type": "code",
   "execution_count": 14,
   "id": "33d8ef49",
   "metadata": {},
   "outputs": [
    {
     "name": "stdout",
     "output_type": "stream",
     "text": [
      "3\n",
      "3\n",
      "3\n",
      "3\n",
      "3\n",
      "3\n",
      "3\n",
      "3\n",
      "3\n",
      "3\n",
      "3\n",
      "3\n",
      "3\n",
      "3\n",
      "3\n",
      "3\n",
      "3\n",
      "3\n",
      "3\n",
      "3\n",
      "3\n",
      "3\n",
      "3\n",
      "3\n",
      "3\n",
      "3\n",
      "3\n",
      "3\n",
      "3\n",
      "3\n",
      "3\n",
      "3\n",
      "3\n",
      "3\n",
      "3\n",
      "3\n",
      "3\n",
      "3\n",
      "3\n",
      "3\n",
      "3\n",
      "3\n",
      "3\n",
      "3\n",
      "3\n",
      "3\n",
      "3\n",
      "3\n",
      "3\n",
      "3\n",
      "3\n",
      "3\n",
      "3\n",
      "3\n",
      "3\n",
      "3\n",
      "3\n",
      "3\n",
      "3\n",
      "3\n",
      "3\n",
      "3\n",
      "3\n",
      "3\n",
      "3\n",
      "3\n",
      "3\n",
      "3\n",
      "3\n",
      "3\n",
      "3\n",
      "3\n",
      "3\n",
      "3\n",
      "3\n",
      "3\n",
      "3\n",
      "3\n",
      "3\n",
      "3\n",
      "3\n",
      "3\n",
      "3\n",
      "3\n",
      "3\n",
      "3\n",
      "3\n",
      "3\n",
      "3\n",
      "3\n",
      "3\n",
      "3\n",
      "3\n",
      "3\n",
      "3\n",
      "3\n",
      "3\n",
      "3\n",
      "3\n",
      "3\n",
      "5\n",
      "5\n",
      "5\n",
      "5\n",
      "5\n",
      "5\n",
      "5\n",
      "5\n",
      "5\n",
      "5\n",
      "5\n",
      "5\n",
      "5\n",
      "5\n",
      "5\n",
      "5\n",
      "5\n",
      "5\n",
      "5\n",
      "5\n",
      "5\n",
      "5\n",
      "5\n",
      "5\n",
      "5\n",
      "5\n",
      "5\n",
      "5\n",
      "5\n",
      "5\n",
      "5\n",
      "5\n",
      "5\n",
      "5\n",
      "5\n",
      "5\n",
      "5\n",
      "5\n",
      "5\n",
      "5\n",
      "5\n",
      "5\n",
      "5\n",
      "5\n",
      "5\n",
      "5\n",
      "5\n",
      "5\n",
      "5\n",
      "5\n",
      "5\n",
      "5\n",
      "5\n",
      "5\n",
      "5\n",
      "5\n",
      "5\n",
      "5\n",
      "5\n",
      "5\n",
      "5\n",
      "5\n",
      "5\n",
      "5\n",
      "5\n",
      "5\n",
      "5\n",
      "5\n",
      "5\n",
      "5\n",
      "5\n",
      "5\n",
      "5\n",
      "5\n",
      "5\n",
      "5\n",
      "5\n",
      "5\n",
      "5\n",
      "5\n",
      "5\n",
      "5\n",
      "5\n",
      "5\n",
      "5\n",
      "5\n",
      "5\n",
      "5\n",
      "5\n",
      "5\n",
      "5\n",
      "5\n",
      "5\n",
      "5\n",
      "5\n",
      "5\n",
      "5\n",
      "5\n",
      "5\n",
      "5\n"
     ]
    }
   ],
   "source": [
    "async def main(n):\n",
    "    for i in range(100):\n",
    "        print(3)\n",
    "    for i in range(100):\n",
    "        print(5)\n",
    "    \n",
    "await main(5)\n"
   ]
  },
  {
   "cell_type": "code",
   "execution_count": 15,
   "id": "8d253d2e",
   "metadata": {},
   "outputs": [],
   "source": [
    "async def main():\n",
    "    print('hello')\n",
    "    await asyncio.sleep(1)\n",
    "    print('world')"
   ]
  },
  {
   "cell_type": "code",
   "execution_count": 17,
   "id": "4a23fbf1",
   "metadata": {},
   "outputs": [
    {
     "name": "stdout",
     "output_type": "stream",
     "text": [
      "hello\n",
      "world\n"
     ]
    }
   ],
   "source": [
    "await main()"
   ]
  },
  {
   "cell_type": "code",
   "execution_count": 46,
   "id": "dca03bc3",
   "metadata": {},
   "outputs": [],
   "source": [
    "def async_func(n):\n",
    "    for i in range(100):\n",
    "        print(n)"
   ]
  },
  {
   "cell_type": "code",
   "execution_count": 66,
   "id": "83b48737",
   "metadata": {},
   "outputs": [],
   "source": [
    "async def good_night():\n",
    "    await asyncio.sleep(1)\n",
    "    print('잘자요')\n",
    "\n",
    "\n",
    "async def main():\n",
    "    await asyncio.gather(\n",
    "        good_night(),\n",
    "        good_night()\n",
    "    )"
   ]
  },
  {
   "cell_type": "code",
   "execution_count": 67,
   "id": "2e0248af",
   "metadata": {},
   "outputs": [],
   "source": [
    "import time"
   ]
  },
  {
   "cell_type": "code",
   "execution_count": 69,
   "id": "0b536696",
   "metadata": {},
   "outputs": [
    {
     "name": "stdout",
     "output_type": "stream",
     "text": [
      "start : 06:40:01\n",
      "잘자요\n",
      "잘자요\n",
      "end : 06:40:02\n"
     ]
    }
   ],
   "source": [
    "print(f\"start : {time.strftime('%X')}\")\n",
    "\n",
    "await main()\n",
    "\n",
    "print(f\"end : {time.strftime('%X')}\")"
   ]
  },
  {
   "cell_type": "code",
   "execution_count": 24,
   "id": "df7e2f8d",
   "metadata": {},
   "outputs": [
    {
     "name": "stdout",
     "output_type": "stream",
     "text": [
      "잘자요\n",
      "잘자요\n"
     ]
    }
   ],
   "source": [
    "await main()"
   ]
  },
  {
   "cell_type": "code",
   "execution_count": null,
   "id": "2ff2fd37",
   "metadata": {},
   "outputs": [],
   "source": []
  },
  {
   "cell_type": "markdown",
   "id": "4cc88375",
   "metadata": {},
   "source": [
    "time.sleep 함수는 기다리는 동안 CPU를 그냥 놀리는 반면에, asyncio.sleep 함수는 CPU가 놀지 않고 다른 처리를 할 수 있도록 해줍니다. 여기서 주의할 점은 asyncio.sleep 자체도 비동기 함수이기 때문에 호출할 때 반드시 await 키워드를 붙여야 한다는 것입니다."
   ]
  },
  {
   "cell_type": "code",
   "execution_count": 70,
   "id": "dac74f05",
   "metadata": {},
   "outputs": [],
   "source": [
    "async def find_users_async(n):\n",
    "    for i in range(1,n+1):\n",
    "        print(f'{n}명 중 {i}번 째 사용자 조회 중 ...')\n",
    "        await asyncio.sleep(1)\n",
    "    print(f'> 총 {n} 명 사용자 비동기 조회 완료!')"
   ]
  },
  {
   "cell_type": "code",
   "execution_count": null,
   "id": "d7092c9e",
   "metadata": {},
   "outputs": [],
   "source": []
  }
 ],
 "metadata": {
  "kernelspec": {
   "display_name": "Python 3",
   "language": "python",
   "name": "python3"
  },
  "language_info": {
   "codemirror_mode": {
    "name": "ipython",
    "version": 3
   },
   "file_extension": ".py",
   "mimetype": "text/x-python",
   "name": "python",
   "nbconvert_exporter": "python",
   "pygments_lexer": "ipython3",
   "version": "3.8.10"
  }
 },
 "nbformat": 4,
 "nbformat_minor": 5
}
