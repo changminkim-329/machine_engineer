{
 "cells": [
  {
   "cell_type": "markdown",
   "id": "a7303cd9",
   "metadata": {},
   "source": [
    "# 빅데이터 에코시스템 (Big Data Eco System)\n",
    "- 빅데이터는 수집, 정제, 적재, 분석, 시각화의 여러 단계를 거칩니다. 이 단계를 거치는 동안 여러가지 기술을 이용하여 처리되고, 이 기술들을 통틀어 빅데이터 에코 시스템(Bigdata Eco System)이라고 한다.\n",
    "\n",
    "### ex) **Hadoop Eco System**\n",
    "![](https://user-images.githubusercontent.com/60086878/111483142-de938580-8777-11eb-92c6-7527eeb4fdeb.png)\n",
    "![](https://img1.daumcdn.net/thumb/R1280x0/?scode=mtistory2&fname=https%3A%2F%2Fk.kakaocdn.net%2Fdn%2FdRI4jK%2FbtqzECSDejo%2F1o59ZnU47MSmg0NWMEgNI0%2Fimg.jpg)"
   ]
  },
  {
   "cell_type": "code",
   "execution_count": null,
   "id": "528fe420",
   "metadata": {},
   "outputs": [],
   "source": []
  }
 ],
 "metadata": {
  "kernelspec": {
   "display_name": "Python 3",
   "language": "python",
   "name": "python3"
  },
  "language_info": {
   "codemirror_mode": {
    "name": "ipython",
    "version": 3
   },
   "file_extension": ".py",
   "mimetype": "text/x-python",
   "name": "python",
   "nbconvert_exporter": "python",
   "pygments_lexer": "ipython3",
   "version": "3.8.10"
  }
 },
 "nbformat": 4,
 "nbformat_minor": 5
}
