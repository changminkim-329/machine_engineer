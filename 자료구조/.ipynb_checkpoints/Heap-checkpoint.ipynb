{
 "cells": [
  {
   "cell_type": "markdown",
   "id": "566e34b5",
   "metadata": {},
   "source": [
    "# Heap(힙)\n",
    "- 우선순위 큐를 위해 만들어진 자료구조.\n",
    "- **우선순위 큐(Priority Queue)**는 들어간 순서에 상관없이 **우선순위가 높은 데이터가 먼저 나오는 것**\n",
    "- 데이터들이 우선순위를 가지고 있어 우선순위가 높은 데이터가 먼저 나감.\n"
   ]
  },
  {
   "cell_type": "markdown",
   "id": "296f3d32",
   "metadata": {},
   "source": [
    "### 특징\n",
    "- 완전 이진 트리\n",
    "- 여러 값 중, 최대값과 최소값을 빠르게 찾아내도록 만들어진 자료구조로 **반정렬 상태** \n",
    "- 힙 트리는 중복된 값을 허용(이진 탐색 트리는 중복값 허용 x)"
   ]
  },
  {
   "cell_type": "markdown",
   "id": "76e43adb",
   "metadata": {},
   "source": [
    "### 힙의 종류\n",
    "#### 최대 힙(max heap)\n",
    "- 부모 노드의 키 값이 자식 노드의 키 값보다 크거나 같은 완전 이진 트리\n",
    "\n",
    "#### 최소 힙(min heap)\n",
    "- 부모 노드의 키 값이 자식 노드의 키 값보다 작거나 같은 완전 이진 트리"
   ]
  },
  {
   "cell_type": "code",
   "execution_count": null,
   "id": "9b7bba1b",
   "metadata": {},
   "outputs": [],
   "source": []
  },
  {
   "cell_type": "markdown",
   "id": "8158a488",
   "metadata": {},
   "source": [
    "![](http://postfiles8.naver.net/20090711_263/redwave102_1247299376573nMrWN_jpg/힙정렬5_redwave102.jpg?type=w2)"
   ]
  },
  {
   "cell_type": "code",
   "execution_count": null,
   "id": "e5c169d9",
   "metadata": {},
   "outputs": [],
   "source": []
  }
 ],
 "metadata": {
  "kernelspec": {
   "display_name": "Python 3",
   "language": "python",
   "name": "python3"
  },
  "language_info": {
   "codemirror_mode": {
    "name": "ipython",
    "version": 3
   },
   "file_extension": ".py",
   "mimetype": "text/x-python",
   "name": "python",
   "nbconvert_exporter": "python",
   "pygments_lexer": "ipython3",
   "version": "3.8.10"
  }
 },
 "nbformat": 4,
 "nbformat_minor": 5
}
